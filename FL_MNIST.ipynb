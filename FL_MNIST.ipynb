{
 "cells": [
  {
   "cell_type": "markdown",
   "metadata": {},
   "source": [
    "## Attempt Federated / Decentralized Learning on MNIST\n",
    "Code modified from official example: https://github.com/pytorch/examples/blob/master/mnist/main.py"
   ]
  },
  {
   "cell_type": "code",
   "execution_count": 1,
   "metadata": {},
   "outputs": [],
   "source": [
    "# Official training implementation\n",
    "import torch\n",
    "import torch.nn as nn\n",
    "import torch.nn.functional as F\n",
    "import torch.optim as optim\n",
    "from torchvision import datasets, transforms\n",
    "from torch.optim.lr_scheduler import StepLR\n",
    "\n",
    "class Net(nn.Module):\n",
    "    def __init__(self):\n",
    "        super(Net, self).__init__()\n",
    "        self.conv1 = nn.Conv2d(1, 32, 3, 1)\n",
    "        self.conv2 = nn.Conv2d(32, 64, 3, 1)\n",
    "        self.dropout1 = nn.Dropout(0.25)\n",
    "        self.dropout2 = nn.Dropout(0.5)\n",
    "        self.fc1 = nn.Linear(9216, 128)\n",
    "        self.fc2 = nn.Linear(128, 10)\n",
    "\n",
    "    def forward(self, x):\n",
    "        x = self.conv1(x)\n",
    "        x = F.relu(x)\n",
    "        x = self.conv2(x)\n",
    "        x = F.relu(x)\n",
    "        x = F.max_pool2d(x, 2)\n",
    "        x = self.dropout1(x)\n",
    "        x = torch.flatten(x, 1)\n",
    "        x = self.fc1(x)\n",
    "        x = F.relu(x)\n",
    "        x = self.dropout2(x)\n",
    "        x = self.fc2(x)\n",
    "        output = F.log_softmax(x, dim=1)\n",
    "        return output\n",
    "\n",
    "def train(model, device, train_loader, optimizer, epoch, log_interval, dry_run, debug=False):\n",
    "    model.train()\n",
    "    loss_history = []\n",
    "    for batch_idx, (data, target) in enumerate(train_loader):\n",
    "        data, target = data.to(device), target.to(device)\n",
    "        optimizer.zero_grad()\n",
    "        output = model(data)\n",
    "        loss = F.nll_loss(output, target)\n",
    "        loss.backward()\n",
    "        optimizer.step()\n",
    "        if batch_idx % log_interval == 0:\n",
    "            if debug:\n",
    "                print('Train Epoch: {} [{}/{} ({:.0f}%)]\\tLoss: {:.6f}'.format(\n",
    "                    epoch, batch_idx * len(data), len(train_loader.dataset),\n",
    "                    100. * batch_idx / len(train_loader), loss.item()))\n",
    "            if dry_run:\n",
    "                break\n",
    "        loss_history.append(loss.item())\n",
    "    return loss_history\n",
    "\n",
    "def test(model, device, test_loader):\n",
    "    model.eval()\n",
    "    test_loss = 0\n",
    "    correct = 0\n",
    "    with torch.no_grad():\n",
    "        for data, target in test_loader:\n",
    "            data, target = data.to(device), target.to(device)\n",
    "            output = model(data)\n",
    "            test_loss += F.nll_loss(output, target, reduction='sum').item()  # sum up batch loss\n",
    "            pred = output.argmax(dim=1, keepdim=True)  # get the index of the max log-probability\n",
    "            correct += pred.eq(target.view_as(pred)).sum().item()\n",
    "\n",
    "    test_loss /= len(test_loader.dataset)\n",
    "\n",
    "    print('\\nTest set: Average loss: {:.4f}, Accuracy: {}/{} ({:.0f}%)\\n'.format(\n",
    "        test_loss, correct, len(test_loader.dataset),\n",
    "        100. * correct / len(test_loader.dataset)))\n",
    "    return test_loss, 100. * correct / len(test_loader.dataset)\n"
   ]
  },
  {
   "cell_type": "code",
   "execution_count": 2,
   "metadata": {},
   "outputs": [],
   "source": [
    "# Plot methods\n",
    "import numpy as np\n",
    "import matplotlib\n",
    "import matplotlib.pyplot as plt\n",
    "\n",
    "def plot_loss_hist(hists, savefig=''):\n",
    "    fig, (ax1, ax2) = plt.subplots(2, figsize=(12,7))\n",
    "    fig.suptitle('Top: loss per iteartion; Bottom: avg loss per epoch')\n",
    "    all_hist = []\n",
    "    for h in hists:\n",
    "        all_hist.extend(h)\n",
    "    avg_hist = [np.mean(h) for h in hists]\n",
    "\n",
    "    max_num_iteration = len(all_hist)\n",
    "    num_epoch = len(hists)\n",
    "    \n",
    "    ax1.plot(np.arange(max_num_iteration), all_hist)\n",
    "    ax2.bar(np.arange(num_epoch), avg_hist)\n",
    "    \n",
    "    ax1.set_xscale('log')\n",
    "    ax2.set_yscale('log')\n",
    "    ax2.set_yscale('log')\n",
    "    \n",
    "    ax1.set_ylabel('Loss history')\n",
    "    ax1.set_ylabel('# of iterations (merged)')\n",
    "    ax1.set_ylabel('Loss history (average)')\n",
    "    ax2.set_xlabel('# of epochs')\n",
    "    \n",
    "    if len(savefig) > 0:\n",
    "        plt.savefig('MNIST_DFL_full_dataset_'+savefig+'.jpg')\n",
    "    "
   ]
  },
  {
   "cell_type": "code",
   "execution_count": 3,
   "metadata": {},
   "outputs": [],
   "source": [
    "# Parameters for training\n",
    "batch_size = 64\n",
    "test_batch_size = 1000\n",
    "epochs = 14\n",
    "lr = 1.0\n",
    "gamma = 0.7\n",
    "no_cuda = False\n",
    "dry_run = False\n",
    "seed = 1\n",
    "log_interval = 10\n",
    "save_model = False\n",
    "\n",
    "use_cuda = not no_cuda and torch.cuda.is_available()\n",
    "torch.manual_seed(seed)\n",
    "device = torch.device(\"cuda\" if use_cuda else \"cpu\")\n",
    "\n",
    "train_kwargs = {'batch_size': batch_size}\n",
    "test_kwargs = {'batch_size': test_batch_size}\n",
    "if use_cuda:\n",
    "    cuda_kwargs = {'num_workers': 1,\n",
    "                   'pin_memory': True,\n",
    "                   'shuffle': True}\n",
    "    train_kwargs.update(cuda_kwargs)\n",
    "    test_kwargs.update(cuda_kwargs)\n",
    "\n",
    "transform=transforms.Compose([\n",
    "    transforms.ToTensor(),\n",
    "    transforms.Normalize((0.1307,), (0.3081,))\n",
    "    ])\n",
    "dataset1 = datasets.MNIST('../data', train=True, download=False,#True,\n",
    "                   transform=transform)\n",
    "dataset2 = datasets.MNIST('../data', train=False,\n",
    "                   transform=transform)\n",
    "train_loader = torch.utils.data.DataLoader(dataset1,**train_kwargs)\n",
    "test_loader = torch.utils.data.DataLoader(dataset2, **test_kwargs)"
   ]
  },
  {
   "cell_type": "code",
   "execution_count": 4,
   "metadata": {
    "collapsed": true,
    "jupyter": {
     "outputs_hidden": true
    }
   },
   "outputs": [
    {
     "ename": "KeyboardInterrupt",
     "evalue": "",
     "output_type": "error",
     "traceback": [
      "\u001b[0;31m---------------------------------------------------------------------------\u001b[0m",
      "\u001b[0;31mKeyboardInterrupt\u001b[0m                         Traceback (most recent call last)",
      "\u001b[0;32m<ipython-input-4-0fd5fdd2cef5>\u001b[0m in \u001b[0;36m<module>\u001b[0;34m\u001b[0m\n\u001b[1;32m      7\u001b[0m \u001b[0;32mfor\u001b[0m \u001b[0mepoch\u001b[0m \u001b[0;32min\u001b[0m \u001b[0mrange\u001b[0m\u001b[0;34m(\u001b[0m\u001b[0;36m1\u001b[0m\u001b[0;34m,\u001b[0m \u001b[0mepochs\u001b[0m \u001b[0;34m+\u001b[0m \u001b[0;36m1\u001b[0m\u001b[0;34m)\u001b[0m\u001b[0;34m:\u001b[0m\u001b[0;34m\u001b[0m\u001b[0m\n\u001b[1;32m      8\u001b[0m     loss_history.append(\n\u001b[0;32m----> 9\u001b[0;31m         \u001b[0mtrain\u001b[0m\u001b[0;34m(\u001b[0m\u001b[0mmodel\u001b[0m\u001b[0;34m,\u001b[0m \u001b[0mdevice\u001b[0m\u001b[0;34m,\u001b[0m \u001b[0mtrain_loader\u001b[0m\u001b[0;34m,\u001b[0m \u001b[0moptimizer\u001b[0m\u001b[0;34m,\u001b[0m \u001b[0mepoch\u001b[0m\u001b[0;34m,\u001b[0m \u001b[0mlog_interval\u001b[0m\u001b[0;34m,\u001b[0m \u001b[0mdry_run\u001b[0m\u001b[0;34m,\u001b[0m \u001b[0mdebug\u001b[0m\u001b[0;34m=\u001b[0m\u001b[0;32mFalse\u001b[0m\u001b[0;34m)\u001b[0m\u001b[0;34m\u001b[0m\u001b[0m\n\u001b[0m\u001b[1;32m     10\u001b[0m     )\n\u001b[1;32m     11\u001b[0m     \u001b[0mprint\u001b[0m\u001b[0;34m(\u001b[0m\u001b[0;34m'Finished epoch {0} with loss {1}'\u001b[0m\u001b[0;34m.\u001b[0m\u001b[0mformat\u001b[0m\u001b[0;34m(\u001b[0m\u001b[0mepoch\u001b[0m\u001b[0;34m,\u001b[0m \u001b[0mloss_history\u001b[0m\u001b[0;34m[\u001b[0m\u001b[0;34m-\u001b[0m\u001b[0;36m1\u001b[0m\u001b[0;34m]\u001b[0m\u001b[0;34m[\u001b[0m\u001b[0;34m-\u001b[0m\u001b[0;36m1\u001b[0m\u001b[0;34m]\u001b[0m\u001b[0;34m)\u001b[0m\u001b[0;34m)\u001b[0m\u001b[0;34m\u001b[0m\u001b[0m\n",
      "\u001b[0;32m<ipython-input-1-0db2f062f61e>\u001b[0m in \u001b[0;36mtrain\u001b[0;34m(model, device, train_loader, optimizer, epoch, log_interval, dry_run, debug)\u001b[0m\n\u001b[1;32m     35\u001b[0m     \u001b[0mmodel\u001b[0m\u001b[0;34m.\u001b[0m\u001b[0mtrain\u001b[0m\u001b[0;34m(\u001b[0m\u001b[0;34m)\u001b[0m\u001b[0;34m\u001b[0m\u001b[0m\n\u001b[1;32m     36\u001b[0m     \u001b[0mloss_history\u001b[0m \u001b[0;34m=\u001b[0m \u001b[0;34m[\u001b[0m\u001b[0;34m]\u001b[0m\u001b[0;34m\u001b[0m\u001b[0m\n\u001b[0;32m---> 37\u001b[0;31m     \u001b[0;32mfor\u001b[0m \u001b[0mbatch_idx\u001b[0m\u001b[0;34m,\u001b[0m \u001b[0;34m(\u001b[0m\u001b[0mdata\u001b[0m\u001b[0;34m,\u001b[0m \u001b[0mtarget\u001b[0m\u001b[0;34m)\u001b[0m \u001b[0;32min\u001b[0m \u001b[0menumerate\u001b[0m\u001b[0;34m(\u001b[0m\u001b[0mtrain_loader\u001b[0m\u001b[0;34m)\u001b[0m\u001b[0;34m:\u001b[0m\u001b[0;34m\u001b[0m\u001b[0m\n\u001b[0m\u001b[1;32m     38\u001b[0m         \u001b[0mdata\u001b[0m\u001b[0;34m,\u001b[0m \u001b[0mtarget\u001b[0m \u001b[0;34m=\u001b[0m \u001b[0mdata\u001b[0m\u001b[0;34m.\u001b[0m\u001b[0mto\u001b[0m\u001b[0;34m(\u001b[0m\u001b[0mdevice\u001b[0m\u001b[0;34m)\u001b[0m\u001b[0;34m,\u001b[0m \u001b[0mtarget\u001b[0m\u001b[0;34m.\u001b[0m\u001b[0mto\u001b[0m\u001b[0;34m(\u001b[0m\u001b[0mdevice\u001b[0m\u001b[0;34m)\u001b[0m\u001b[0;34m\u001b[0m\u001b[0m\n\u001b[1;32m     39\u001b[0m         \u001b[0moptimizer\u001b[0m\u001b[0;34m.\u001b[0m\u001b[0mzero_grad\u001b[0m\u001b[0;34m(\u001b[0m\u001b[0;34m)\u001b[0m\u001b[0;34m\u001b[0m\u001b[0m\n",
      "\u001b[0;32m/Library/Frameworks/Python.framework/Versions/3.6/lib/python3.6/site-packages/torch/utils/data/dataloader.py\u001b[0m in \u001b[0;36m__next__\u001b[0;34m(self)\u001b[0m\n\u001b[1;32m    343\u001b[0m \u001b[0;34m\u001b[0m\u001b[0m\n\u001b[1;32m    344\u001b[0m     \u001b[0;32mdef\u001b[0m \u001b[0m__next__\u001b[0m\u001b[0;34m(\u001b[0m\u001b[0mself\u001b[0m\u001b[0;34m)\u001b[0m\u001b[0;34m:\u001b[0m\u001b[0;34m\u001b[0m\u001b[0m\n\u001b[0;32m--> 345\u001b[0;31m         \u001b[0mdata\u001b[0m \u001b[0;34m=\u001b[0m \u001b[0mself\u001b[0m\u001b[0;34m.\u001b[0m\u001b[0m_next_data\u001b[0m\u001b[0;34m(\u001b[0m\u001b[0;34m)\u001b[0m\u001b[0;34m\u001b[0m\u001b[0m\n\u001b[0m\u001b[1;32m    346\u001b[0m         \u001b[0mself\u001b[0m\u001b[0;34m.\u001b[0m\u001b[0m_num_yielded\u001b[0m \u001b[0;34m+=\u001b[0m \u001b[0;36m1\u001b[0m\u001b[0;34m\u001b[0m\u001b[0m\n\u001b[1;32m    347\u001b[0m         \u001b[0;32mif\u001b[0m \u001b[0mself\u001b[0m\u001b[0;34m.\u001b[0m\u001b[0m_dataset_kind\u001b[0m \u001b[0;34m==\u001b[0m \u001b[0m_DatasetKind\u001b[0m\u001b[0;34m.\u001b[0m\u001b[0mIterable\u001b[0m \u001b[0;32mand\u001b[0m\u001b[0;31m \u001b[0m\u001b[0;31m\\\u001b[0m\u001b[0;34m\u001b[0m\u001b[0m\n",
      "\u001b[0;32m/Library/Frameworks/Python.framework/Versions/3.6/lib/python3.6/site-packages/torch/utils/data/dataloader.py\u001b[0m in \u001b[0;36m_next_data\u001b[0;34m(self)\u001b[0m\n\u001b[1;32m    383\u001b[0m     \u001b[0;32mdef\u001b[0m \u001b[0m_next_data\u001b[0m\u001b[0;34m(\u001b[0m\u001b[0mself\u001b[0m\u001b[0;34m)\u001b[0m\u001b[0;34m:\u001b[0m\u001b[0;34m\u001b[0m\u001b[0m\n\u001b[1;32m    384\u001b[0m         \u001b[0mindex\u001b[0m \u001b[0;34m=\u001b[0m \u001b[0mself\u001b[0m\u001b[0;34m.\u001b[0m\u001b[0m_next_index\u001b[0m\u001b[0;34m(\u001b[0m\u001b[0;34m)\u001b[0m  \u001b[0;31m# may raise StopIteration\u001b[0m\u001b[0;34m\u001b[0m\u001b[0m\n\u001b[0;32m--> 385\u001b[0;31m         \u001b[0mdata\u001b[0m \u001b[0;34m=\u001b[0m \u001b[0mself\u001b[0m\u001b[0;34m.\u001b[0m\u001b[0m_dataset_fetcher\u001b[0m\u001b[0;34m.\u001b[0m\u001b[0mfetch\u001b[0m\u001b[0;34m(\u001b[0m\u001b[0mindex\u001b[0m\u001b[0;34m)\u001b[0m  \u001b[0;31m# may raise StopIteration\u001b[0m\u001b[0;34m\u001b[0m\u001b[0m\n\u001b[0m\u001b[1;32m    386\u001b[0m         \u001b[0;32mif\u001b[0m \u001b[0mself\u001b[0m\u001b[0;34m.\u001b[0m\u001b[0m_pin_memory\u001b[0m\u001b[0;34m:\u001b[0m\u001b[0;34m\u001b[0m\u001b[0m\n\u001b[1;32m    387\u001b[0m             \u001b[0mdata\u001b[0m \u001b[0;34m=\u001b[0m \u001b[0m_utils\u001b[0m\u001b[0;34m.\u001b[0m\u001b[0mpin_memory\u001b[0m\u001b[0;34m.\u001b[0m\u001b[0mpin_memory\u001b[0m\u001b[0;34m(\u001b[0m\u001b[0mdata\u001b[0m\u001b[0;34m)\u001b[0m\u001b[0;34m\u001b[0m\u001b[0m\n",
      "\u001b[0;32m/Library/Frameworks/Python.framework/Versions/3.6/lib/python3.6/site-packages/torch/utils/data/_utils/fetch.py\u001b[0m in \u001b[0;36mfetch\u001b[0;34m(self, possibly_batched_index)\u001b[0m\n\u001b[1;32m     42\u001b[0m     \u001b[0;32mdef\u001b[0m \u001b[0mfetch\u001b[0m\u001b[0;34m(\u001b[0m\u001b[0mself\u001b[0m\u001b[0;34m,\u001b[0m \u001b[0mpossibly_batched_index\u001b[0m\u001b[0;34m)\u001b[0m\u001b[0;34m:\u001b[0m\u001b[0;34m\u001b[0m\u001b[0m\n\u001b[1;32m     43\u001b[0m         \u001b[0;32mif\u001b[0m \u001b[0mself\u001b[0m\u001b[0;34m.\u001b[0m\u001b[0mauto_collation\u001b[0m\u001b[0;34m:\u001b[0m\u001b[0;34m\u001b[0m\u001b[0m\n\u001b[0;32m---> 44\u001b[0;31m             \u001b[0mdata\u001b[0m \u001b[0;34m=\u001b[0m \u001b[0;34m[\u001b[0m\u001b[0mself\u001b[0m\u001b[0;34m.\u001b[0m\u001b[0mdataset\u001b[0m\u001b[0;34m[\u001b[0m\u001b[0midx\u001b[0m\u001b[0;34m]\u001b[0m \u001b[0;32mfor\u001b[0m \u001b[0midx\u001b[0m \u001b[0;32min\u001b[0m \u001b[0mpossibly_batched_index\u001b[0m\u001b[0;34m]\u001b[0m\u001b[0;34m\u001b[0m\u001b[0m\n\u001b[0m\u001b[1;32m     45\u001b[0m         \u001b[0;32melse\u001b[0m\u001b[0;34m:\u001b[0m\u001b[0;34m\u001b[0m\u001b[0m\n\u001b[1;32m     46\u001b[0m             \u001b[0mdata\u001b[0m \u001b[0;34m=\u001b[0m \u001b[0mself\u001b[0m\u001b[0;34m.\u001b[0m\u001b[0mdataset\u001b[0m\u001b[0;34m[\u001b[0m\u001b[0mpossibly_batched_index\u001b[0m\u001b[0;34m]\u001b[0m\u001b[0;34m\u001b[0m\u001b[0m\n",
      "\u001b[0;32m/Library/Frameworks/Python.framework/Versions/3.6/lib/python3.6/site-packages/torch/utils/data/_utils/fetch.py\u001b[0m in \u001b[0;36m<listcomp>\u001b[0;34m(.0)\u001b[0m\n\u001b[1;32m     42\u001b[0m     \u001b[0;32mdef\u001b[0m \u001b[0mfetch\u001b[0m\u001b[0;34m(\u001b[0m\u001b[0mself\u001b[0m\u001b[0;34m,\u001b[0m \u001b[0mpossibly_batched_index\u001b[0m\u001b[0;34m)\u001b[0m\u001b[0;34m:\u001b[0m\u001b[0;34m\u001b[0m\u001b[0m\n\u001b[1;32m     43\u001b[0m         \u001b[0;32mif\u001b[0m \u001b[0mself\u001b[0m\u001b[0;34m.\u001b[0m\u001b[0mauto_collation\u001b[0m\u001b[0;34m:\u001b[0m\u001b[0;34m\u001b[0m\u001b[0m\n\u001b[0;32m---> 44\u001b[0;31m             \u001b[0mdata\u001b[0m \u001b[0;34m=\u001b[0m \u001b[0;34m[\u001b[0m\u001b[0mself\u001b[0m\u001b[0;34m.\u001b[0m\u001b[0mdataset\u001b[0m\u001b[0;34m[\u001b[0m\u001b[0midx\u001b[0m\u001b[0;34m]\u001b[0m \u001b[0;32mfor\u001b[0m \u001b[0midx\u001b[0m \u001b[0;32min\u001b[0m \u001b[0mpossibly_batched_index\u001b[0m\u001b[0;34m]\u001b[0m\u001b[0;34m\u001b[0m\u001b[0m\n\u001b[0m\u001b[1;32m     45\u001b[0m         \u001b[0;32melse\u001b[0m\u001b[0;34m:\u001b[0m\u001b[0;34m\u001b[0m\u001b[0m\n\u001b[1;32m     46\u001b[0m             \u001b[0mdata\u001b[0m \u001b[0;34m=\u001b[0m \u001b[0mself\u001b[0m\u001b[0;34m.\u001b[0m\u001b[0mdataset\u001b[0m\u001b[0;34m[\u001b[0m\u001b[0mpossibly_batched_index\u001b[0m\u001b[0;34m]\u001b[0m\u001b[0;34m\u001b[0m\u001b[0m\n",
      "\u001b[0;32m/Library/Frameworks/Python.framework/Versions/3.6/lib/python3.6/site-packages/torchvision/datasets/mnist.py\u001b[0m in \u001b[0;36m__getitem__\u001b[0;34m(self, index)\u001b[0m\n\u001b[1;32m     95\u001b[0m \u001b[0;34m\u001b[0m\u001b[0m\n\u001b[1;32m     96\u001b[0m         \u001b[0;32mif\u001b[0m \u001b[0mself\u001b[0m\u001b[0;34m.\u001b[0m\u001b[0mtransform\u001b[0m \u001b[0;32mis\u001b[0m \u001b[0;32mnot\u001b[0m \u001b[0;32mNone\u001b[0m\u001b[0;34m:\u001b[0m\u001b[0;34m\u001b[0m\u001b[0m\n\u001b[0;32m---> 97\u001b[0;31m             \u001b[0mimg\u001b[0m \u001b[0;34m=\u001b[0m \u001b[0mself\u001b[0m\u001b[0;34m.\u001b[0m\u001b[0mtransform\u001b[0m\u001b[0;34m(\u001b[0m\u001b[0mimg\u001b[0m\u001b[0;34m)\u001b[0m\u001b[0;34m\u001b[0m\u001b[0m\n\u001b[0m\u001b[1;32m     98\u001b[0m \u001b[0;34m\u001b[0m\u001b[0m\n\u001b[1;32m     99\u001b[0m         \u001b[0;32mif\u001b[0m \u001b[0mself\u001b[0m\u001b[0;34m.\u001b[0m\u001b[0mtarget_transform\u001b[0m \u001b[0;32mis\u001b[0m \u001b[0;32mnot\u001b[0m \u001b[0;32mNone\u001b[0m\u001b[0;34m:\u001b[0m\u001b[0;34m\u001b[0m\u001b[0m\n",
      "\u001b[0;32m/Library/Frameworks/Python.framework/Versions/3.6/lib/python3.6/site-packages/torchvision/transforms/transforms.py\u001b[0m in \u001b[0;36m__call__\u001b[0;34m(self, img)\u001b[0m\n\u001b[1;32m     59\u001b[0m     \u001b[0;32mdef\u001b[0m \u001b[0m__call__\u001b[0m\u001b[0;34m(\u001b[0m\u001b[0mself\u001b[0m\u001b[0;34m,\u001b[0m \u001b[0mimg\u001b[0m\u001b[0;34m)\u001b[0m\u001b[0;34m:\u001b[0m\u001b[0;34m\u001b[0m\u001b[0m\n\u001b[1;32m     60\u001b[0m         \u001b[0;32mfor\u001b[0m \u001b[0mt\u001b[0m \u001b[0;32min\u001b[0m \u001b[0mself\u001b[0m\u001b[0;34m.\u001b[0m\u001b[0mtransforms\u001b[0m\u001b[0;34m:\u001b[0m\u001b[0;34m\u001b[0m\u001b[0m\n\u001b[0;32m---> 61\u001b[0;31m             \u001b[0mimg\u001b[0m \u001b[0;34m=\u001b[0m \u001b[0mt\u001b[0m\u001b[0;34m(\u001b[0m\u001b[0mimg\u001b[0m\u001b[0;34m)\u001b[0m\u001b[0;34m\u001b[0m\u001b[0m\n\u001b[0m\u001b[1;32m     62\u001b[0m         \u001b[0;32mreturn\u001b[0m \u001b[0mimg\u001b[0m\u001b[0;34m\u001b[0m\u001b[0m\n\u001b[1;32m     63\u001b[0m \u001b[0;34m\u001b[0m\u001b[0m\n",
      "\u001b[0;32m/Library/Frameworks/Python.framework/Versions/3.6/lib/python3.6/site-packages/torchvision/transforms/transforms.py\u001b[0m in \u001b[0;36m__call__\u001b[0;34m(self, tensor)\u001b[0m\n\u001b[1;32m    164\u001b[0m             \u001b[0mTensor\u001b[0m\u001b[0;34m:\u001b[0m \u001b[0mNormalized\u001b[0m \u001b[0mTensor\u001b[0m \u001b[0mimage\u001b[0m\u001b[0;34m.\u001b[0m\u001b[0;34m\u001b[0m\u001b[0m\n\u001b[1;32m    165\u001b[0m         \"\"\"\n\u001b[0;32m--> 166\u001b[0;31m         \u001b[0;32mreturn\u001b[0m \u001b[0mF\u001b[0m\u001b[0;34m.\u001b[0m\u001b[0mnormalize\u001b[0m\u001b[0;34m(\u001b[0m\u001b[0mtensor\u001b[0m\u001b[0;34m,\u001b[0m \u001b[0mself\u001b[0m\u001b[0;34m.\u001b[0m\u001b[0mmean\u001b[0m\u001b[0;34m,\u001b[0m \u001b[0mself\u001b[0m\u001b[0;34m.\u001b[0m\u001b[0mstd\u001b[0m\u001b[0;34m,\u001b[0m \u001b[0mself\u001b[0m\u001b[0;34m.\u001b[0m\u001b[0minplace\u001b[0m\u001b[0;34m)\u001b[0m\u001b[0;34m\u001b[0m\u001b[0m\n\u001b[0m\u001b[1;32m    167\u001b[0m \u001b[0;34m\u001b[0m\u001b[0m\n\u001b[1;32m    168\u001b[0m     \u001b[0;32mdef\u001b[0m \u001b[0m__repr__\u001b[0m\u001b[0;34m(\u001b[0m\u001b[0mself\u001b[0m\u001b[0;34m)\u001b[0m\u001b[0;34m:\u001b[0m\u001b[0;34m\u001b[0m\u001b[0m\n",
      "\u001b[0;32m/Library/Frameworks/Python.framework/Versions/3.6/lib/python3.6/site-packages/torchvision/transforms/functional.py\u001b[0m in \u001b[0;36mnormalize\u001b[0;34m(tensor, mean, std, inplace)\u001b[0m\n\u001b[1;32m    200\u001b[0m     \u001b[0mmean\u001b[0m \u001b[0;34m=\u001b[0m \u001b[0mtorch\u001b[0m\u001b[0;34m.\u001b[0m\u001b[0mas_tensor\u001b[0m\u001b[0;34m(\u001b[0m\u001b[0mmean\u001b[0m\u001b[0;34m,\u001b[0m \u001b[0mdtype\u001b[0m\u001b[0;34m=\u001b[0m\u001b[0mdtype\u001b[0m\u001b[0;34m,\u001b[0m \u001b[0mdevice\u001b[0m\u001b[0;34m=\u001b[0m\u001b[0mtensor\u001b[0m\u001b[0;34m.\u001b[0m\u001b[0mdevice\u001b[0m\u001b[0;34m)\u001b[0m\u001b[0;34m\u001b[0m\u001b[0m\n\u001b[1;32m    201\u001b[0m     \u001b[0mstd\u001b[0m \u001b[0;34m=\u001b[0m \u001b[0mtorch\u001b[0m\u001b[0;34m.\u001b[0m\u001b[0mas_tensor\u001b[0m\u001b[0;34m(\u001b[0m\u001b[0mstd\u001b[0m\u001b[0;34m,\u001b[0m \u001b[0mdtype\u001b[0m\u001b[0;34m=\u001b[0m\u001b[0mdtype\u001b[0m\u001b[0;34m,\u001b[0m \u001b[0mdevice\u001b[0m\u001b[0;34m=\u001b[0m\u001b[0mtensor\u001b[0m\u001b[0;34m.\u001b[0m\u001b[0mdevice\u001b[0m\u001b[0;34m)\u001b[0m\u001b[0;34m\u001b[0m\u001b[0m\n\u001b[0;32m--> 202\u001b[0;31m     \u001b[0;32mif\u001b[0m \u001b[0;34m(\u001b[0m\u001b[0mstd\u001b[0m \u001b[0;34m==\u001b[0m \u001b[0;36m0\u001b[0m\u001b[0;34m)\u001b[0m\u001b[0;34m.\u001b[0m\u001b[0many\u001b[0m\u001b[0;34m(\u001b[0m\u001b[0;34m)\u001b[0m\u001b[0;34m:\u001b[0m\u001b[0;34m\u001b[0m\u001b[0m\n\u001b[0m\u001b[1;32m    203\u001b[0m         \u001b[0;32mraise\u001b[0m \u001b[0mValueError\u001b[0m\u001b[0;34m(\u001b[0m\u001b[0;34m'std evaluated to zero after conversion to {}, leading to division by zero.'\u001b[0m\u001b[0;34m.\u001b[0m\u001b[0mformat\u001b[0m\u001b[0;34m(\u001b[0m\u001b[0mdtype\u001b[0m\u001b[0;34m)\u001b[0m\u001b[0;34m)\u001b[0m\u001b[0;34m\u001b[0m\u001b[0m\n\u001b[1;32m    204\u001b[0m     \u001b[0;32mif\u001b[0m \u001b[0mmean\u001b[0m\u001b[0;34m.\u001b[0m\u001b[0mndim\u001b[0m \u001b[0;34m==\u001b[0m \u001b[0;36m1\u001b[0m\u001b[0;34m:\u001b[0m\u001b[0;34m\u001b[0m\u001b[0m\n",
      "\u001b[0;32m/Library/Frameworks/Python.framework/Versions/3.6/lib/python3.6/site-packages/torch/tensor.py\u001b[0m in \u001b[0;36mwrapped\u001b[0;34m(*args, **kwargs)\u001b[0m\n\u001b[1;32m     26\u001b[0m     \u001b[0;32mdef\u001b[0m \u001b[0mwrapped\u001b[0m\u001b[0;34m(\u001b[0m\u001b[0;34m*\u001b[0m\u001b[0margs\u001b[0m\u001b[0;34m,\u001b[0m \u001b[0;34m**\u001b[0m\u001b[0mkwargs\u001b[0m\u001b[0;34m)\u001b[0m\u001b[0;34m:\u001b[0m\u001b[0;34m\u001b[0m\u001b[0m\n\u001b[1;32m     27\u001b[0m         \u001b[0;32mtry\u001b[0m\u001b[0;34m:\u001b[0m\u001b[0;34m\u001b[0m\u001b[0m\n\u001b[0;32m---> 28\u001b[0;31m             \u001b[0;32mreturn\u001b[0m \u001b[0mf\u001b[0m\u001b[0;34m(\u001b[0m\u001b[0;34m*\u001b[0m\u001b[0margs\u001b[0m\u001b[0;34m,\u001b[0m \u001b[0;34m**\u001b[0m\u001b[0mkwargs\u001b[0m\u001b[0;34m)\u001b[0m\u001b[0;34m\u001b[0m\u001b[0m\n\u001b[0m\u001b[1;32m     29\u001b[0m         \u001b[0;32mexcept\u001b[0m \u001b[0mTypeError\u001b[0m\u001b[0;34m:\u001b[0m\u001b[0;34m\u001b[0m\u001b[0m\n\u001b[1;32m     30\u001b[0m             \u001b[0;32mreturn\u001b[0m \u001b[0mNotImplemented\u001b[0m\u001b[0;34m\u001b[0m\u001b[0m\n",
      "\u001b[0;31mKeyboardInterrupt\u001b[0m: "
     ]
    }
   ],
   "source": [
    "# Main execution for official training\n",
    "model = Net().to(device)\n",
    "optimizer = optim.Adadelta(model.parameters(), lr=lr)\n",
    "scheduler = StepLR(optimizer, step_size=1, gamma=gamma)\n",
    "\n",
    "loss_history = []\n",
    "accu_history = []\n",
    "for epoch in range(1, epochs + 1):\n",
    "    loss_history.append(\n",
    "        train(model, device, train_loader, optimizer, epoch, log_interval, dry_run, debug=False)\n",
    "    )\n",
    "    print('Finished epoch {0} with loss {1}'.format(epoch, loss_history[-1][-1]))\n",
    "    test_loss, test_accuracy = test(model, device, test_loader)\n",
    "    accu_history.append(test_accuracy)\n",
    "    \n",
    "    scheduler.step()\n",
    "\n",
    "if save_model:\n",
    "    torch.save(model.state_dict(), \"mnist_cnn.pt\")"
   ]
  },
  {
   "cell_type": "code",
   "execution_count": 18,
   "metadata": {},
   "outputs": [
    {
     "data": {
      "image/png": "[encoded data removed]",
      "text/plain": [
       "<Figure size 864x504 with 2 Axes>"
      ]
     },
     "metadata": {
      "needs_background": "light"
     },
     "output_type": "display_data"
    }
   ],
   "source": [
    "# Plot loss history\n",
    "plot_loss_hist(loss_history)"
   ]
  },
  {
   "cell_type": "code",
   "execution_count": null,
   "metadata": {},
   "outputs": [],
   "source": [
    "# Print out loss history for future reference\n",
    "loss_history"
   ]
  },
  {
   "cell_type": "code",
   "execution_count": null,
   "metadata": {},
   "outputs": [],
   "source": [
    "# Plot accuracy history\n",
    "print(accu_history)\n",
    "plt.plot(np.arange(len(accu_history)), accu_history)"
   ]
  },
  {
   "cell_type": "code",
   "execution_count": 30,
   "metadata": {},
   "outputs": [
    {
     "data": {
      "text/plain": [
       "'A'"
      ]
     },
     "execution_count": 30,
     "metadata": {},
     "output_type": "execute_result"
    }
   ],
   "source": [
    "aaa = 'A'\n",
    "aaa[0]"
   ]
  },
  {
   "cell_type": "markdown",
   "metadata": {},
   "source": [
    "### Standard Federated Learning model (McMahan et al. 2017)\n",
    "where a central server assigns clients to train, and collects client information to update the average model. \n",
    "For this one, assume that each client has access to partitioned data for training. Each local update splits local data into batches, goes through each batch for gradient update, and might repeat for several epochs, depending on how those hyperparameters are set. \n",
    "\n",
    "FedAvg. Table 2 contains performance data. For our purpose we don't really care about communication efficiency, so we can start with C\\*K=10 (10 clients do update per round, out of 100 clients) with B=10 and E=1. "
   ]
  },
  {
   "cell_type": "code",
   "execution_count": 43,
   "metadata": {},
   "outputs": [],
   "source": [
    "import copy\n",
    "# Implement server logic\n",
    "class ServerNet():\n",
    "    def __init__(self):\n",
    "        self.model = Net().to(device)\n",
    "        self.optimizer = optim.Adadelta(self.model.parameters(), lr=lr)\n",
    "        self.scheduler = StepLR(self.optimizer, step_size=1, gamma=gamma)\n",
    "    \n",
    "    def update(self, clients):\n",
    "        # Take averages of each client.\n",
    "        # https://github.com/AshwinRJ/Federated-Learning-PyTorch/blob/235b8f0ab161825694ee73874295d773b0d3f23f/src/utils.py\n",
    "        # https://discuss.pytorch.org/t/average-each-weight-of-two-models/77008\n",
    "        w_avg = copy.deepcopy(clients[0].model.state_dict())\n",
    "        for key in w_avg.keys():\n",
    "            for i in range(1, len(clients)):\n",
    "                w_avg[key] += clients[i].model.state_dict()[key]\n",
    "            w_avg[key] = torch.div(w_avg[key], len(clients))\n",
    "        self.model.load_state_dict(w_avg)\n",
    "\n",
    "# Implement client logic\n",
    "class ClientNet():\n",
    "    def __init__(self, dataset, B=16, E=1):\n",
    "        self.model = Net().to(device)\n",
    "        self.optimizer = optim.Adadelta(self.model.parameters(), lr=lr)\n",
    "        self.scheduler = StepLR(self.optimizer, step_size=1, gamma=gamma)\n",
    "        self.loss_history = []\n",
    "        self.B = B\n",
    "        self.E = E\n",
    "        train_kwargs = {'batch_size': B}\n",
    "        self.train_loader = torch.utils.data.DataLoader(dataset,**train_kwargs)\n",
    "        \n",
    "    def update(self, dry_run=False, max_n=np.inf, weights=None):\n",
    "        if weights is not None:\n",
    "            self.model.load_state_dict(weights)\n",
    "        self.model.train()\n",
    "        for e in range(self.E):\n",
    "            self.loss_history.append([])\n",
    "            # How to only load a limited amount of data?\n",
    "            for batch_idx, (data, target) in enumerate(self.train_loader):\n",
    "                data, target = data.to(device), target.to(device)\n",
    "                self.optimizer.zero_grad()\n",
    "                output = self.model(data)\n",
    "                loss = F.nll_loss(output, target)\n",
    "                loss.backward()\n",
    "                self.optimizer.step()\n",
    "\n",
    "                self.loss_history[-1].append(loss.item())\n",
    "\n",
    "#                 if dry_run or batch_idx >= max_n:\n",
    "                if dry_run or batch_idx * self.B >= max_n:\n",
    "                    break\n",
    "        \n",
    "# Implement train and test logic\n",
    "def train_FL(server, clients, num_rounds=1, dry_run=False, debug=False, CK=10, max_n=np.inf, test_loader=None):\n",
    "    server_loss = []\n",
    "    server_accuracy = []\n",
    "    for e in range(num_rounds):\n",
    "        client_inds = np.random.permutation(len(clients))\n",
    "        chosen_clients = []\n",
    "        for m in client_inds[:CK]:\n",
    "            clients[m].update(dry_run, max_n=max_n, weights=server.model.state_dict())\n",
    "            chosen_clients.append(clients[m])\n",
    "        server.update(chosen_clients)\n",
    "        print(\"round {0} complete\".format(e+1))\n",
    "        # Run the server against test dataset to examine performance\n",
    "        if test_loader is not None:\n",
    "            sloss, saccu = test_FL(server, test_loader, debug=False)\n",
    "            server_loss.append([sloss])\n",
    "            server_accuracy.append(saccu)\n",
    "    return server_loss, server_accuracy\n",
    "    \n",
    "def test_FL(server, test_loader, debug=True):\n",
    "    server.model.eval()\n",
    "    test_loss = 0\n",
    "    correct = 0\n",
    "    with torch.no_grad():\n",
    "        for data, target in test_loader:\n",
    "            data, target = data.to(device), target.to(device)\n",
    "            output = server.model(data)\n",
    "            test_loss += F.nll_loss(output, target, reduction='sum').item()  # sum up batch loss\n",
    "            pred = output.argmax(dim=1, keepdim=True)  # get the index of the max log-probability\n",
    "            correct += pred.eq(target.view_as(pred)).sum().item()\n",
    "\n",
    "    test_loss /= len(test_loader.dataset)\n",
    "    if debug:\n",
    "        print('\\nTest set: Average loss: {:.4f}, Accuracy: {}/{} ({:.0f}%)\\n'.format(\n",
    "            test_loss, correct, len(test_loader.dataset),\n",
    "            100. * correct / len(test_loader.dataset)))\n",
    "    return test_loss, 100. * correct / len(test_loader.dataset)\n"
   ]
  },
  {
   "cell_type": "code",
   "execution_count": 108,
   "metadata": {
    "collapsed": true,
    "jupyter": {
     "outputs_hidden": true
    }
   },
   "outputs": [
    {
     "name": "stdout",
     "output_type": "stream",
     "text": [
      "round 1 complete\n",
      "round 2 complete\n",
      "round 3 complete\n",
      "round 4 complete\n",
      "round 5 complete\n",
      "round 6 complete\n",
      "round 7 complete\n",
      "round 8 complete\n",
      "round 9 complete\n",
      "round 10 complete\n",
      "round 11 complete\n",
      "round 12 complete\n",
      "round 13 complete\n",
      "round 14 complete\n",
      "round 15 complete\n",
      "round 16 complete\n",
      "round 17 complete\n",
      "round 18 complete\n",
      "round 19 complete\n",
      "round 20 complete\n",
      "round 21 complete\n",
      "round 22 complete\n",
      "round 23 complete\n",
      "round 24 complete\n",
      "round 25 complete\n",
      "round 26 complete\n",
      "round 27 complete\n",
      "round 28 complete\n",
      "round 29 complete\n",
      "round 30 complete\n",
      "round 31 complete\n",
      "round 32 complete\n",
      "round 33 complete\n",
      "round 34 complete\n",
      "round 35 complete\n",
      "round 36 complete\n",
      "round 37 complete\n",
      "round 38 complete\n",
      "round 39 complete\n",
      "round 40 complete\n",
      "round 41 complete\n",
      "round 42 complete\n",
      "round 43 complete\n",
      "round 44 complete\n",
      "round 45 complete\n",
      "round 46 complete\n",
      "round 47 complete\n",
      "round 48 complete\n",
      "round 49 complete\n",
      "round 50 complete\n",
      "round 51 complete\n",
      "round 52 complete\n",
      "round 53 complete\n",
      "round 54 complete\n",
      "round 55 complete\n",
      "round 56 complete\n",
      "round 57 complete\n",
      "round 58 complete\n",
      "round 59 complete\n",
      "round 60 complete\n",
      "round 61 complete\n",
      "round 62 complete\n",
      "round 63 complete\n",
      "round 64 complete\n",
      "round 65 complete\n",
      "round 66 complete\n",
      "round 67 complete\n",
      "round 68 complete\n",
      "round 69 complete\n",
      "round 70 complete\n",
      "round 71 complete\n",
      "round 72 complete\n",
      "round 73 complete\n",
      "round 74 complete\n",
      "round 75 complete\n",
      "round 76 complete\n",
      "round 77 complete\n",
      "round 78 complete\n",
      "round 79 complete\n",
      "round 80 complete\n",
      "round 81 complete\n",
      "round 82 complete\n",
      "round 83 complete\n",
      "round 84 complete\n",
      "round 85 complete\n",
      "round 86 complete\n",
      "round 87 complete\n",
      "round 88 complete\n",
      "round 89 complete\n",
      "round 90 complete\n",
      "round 91 complete\n",
      "round 92 complete\n",
      "round 93 complete\n",
      "round 94 complete\n",
      "round 95 complete\n",
      "round 96 complete\n",
      "round 97 complete\n",
      "round 98 complete\n",
      "round 99 complete\n",
      "round 100 complete\n",
      "\n",
      "Test set: Average loss: 0.0689, Accuracy: 9862/10000 (99%)\n",
      "\n"
     ]
    },
    {
     "data": {
      "text/plain": [
       "(0.0689231725692749, 98.62)"
      ]
     },
     "execution_count": 108,
     "metadata": {},
     "output_type": "execute_result"
    }
   ],
   "source": [
    "# Define some parameters for FL\n",
    "K = 20 # Number of clients\n",
    "C = 0.5 # Fraction of clients updated each round\n",
    "CK = int(C*K)\n",
    "B = 10 # Batch size in clients\n",
    "E = 1 # Epochs per client update\n",
    "n = len(dataset1) # Number of training samples in total\n",
    "num_rounds = 100\n",
    "max_n = n/num_rounds/CK\n",
    "nk = [int(n/K)]*K\n",
    "nk[-1] = n - np.sum(nk[:-1])\n",
    "\n",
    "# Create agents and assign data to each agent\n",
    "partitioned_dataset = torch.utils.data.random_split(dataset1, nk)\n",
    "\n",
    "# Create agents\n",
    "clients = []\n",
    "for i in range(K):\n",
    "    clients.append(ClientNet(dataset1, B, E))\n",
    "#     clients.append(ClientNet(partitioned_dataset[i], B, E))\n",
    "server = ServerNet()\n",
    "\n",
    "server_loss_history, server_accuracy_history = train_FL(server, clients, num_rounds=num_rounds, dry_run=False, CK=CK, max_n=max_n, \n",
    "                               test_loader=test_loader)\n",
    "test_FL(server, test_loader)\n",
    "    \n",
    "# test_kwargs = {'batch_size': test_batch_size}\n",
    "# train_loader = torch.utils.data.DataLoader(dataset1,**train_kwargs)\n",
    "# test_loader = torch.utils.data.DataLoader(dataset2, **test_kwargs)"
   ]
  },
  {
   "cell_type": "code",
   "execution_count": 42,
   "metadata": {},
   "outputs": [
    {
     "data": {
      "text/plain": [
       "3"
      ]
     },
     "execution_count": 42,
     "metadata": {},
     "output_type": "execute_result"
    }
   ],
   "source": [
    "sum([0,1,2])"
   ]
  },
  {
   "cell_type": "code",
   "execution_count": 109,
   "metadata": {},
   "outputs": [
    {
     "data": {
      "image/png": "[encoded data removed]",
      "text/plain": [
       "<Figure size 864x504 with 2 Axes>"
      ]
     },
     "metadata": {
      "needs_background": "light"
     },
     "output_type": "display_data"
    }
   ],
   "source": [
    "# Visualize loss history of some nets\n",
    "plot_loss_hist(clients[1].loss_history)"
   ]
  },
  {
   "cell_type": "code",
   "execution_count": 110,
   "metadata": {},
   "outputs": [
    {
     "data": {
      "image/png": "[encoded data removed]",
      "text/plain": [
       "<Figure size 864x504 with 2 Axes>"
      ]
     },
     "metadata": {
      "needs_background": "light"
     },
     "output_type": "display_data"
    }
   ],
   "source": [
    "plot_loss_hist(server_loss_history)"
   ]
  },
  {
   "cell_type": "code",
   "execution_count": 111,
   "metadata": {},
   "outputs": [
    {
     "data": {
      "text/plain": [
       "[<matplotlib.lines.Line2D at 0x141f23c50>]"
      ]
     },
     "execution_count": 111,
     "metadata": {},
     "output_type": "execute_result"
    },
    {
     "data": {
      "image/png": "[encoded data removed]",
      "text/plain": [
       "<Figure size 432x288 with 1 Axes>"
      ]
     },
     "metadata": {
      "needs_background": "light"
     },
     "output_type": "display_data"
    }
   ],
   "source": [
    "plt.plot(np.arange(len(server_accuracy_history)), server_accuracy_history)"
   ]
  },
  {
   "cell_type": "code",
   "execution_count": null,
   "metadata": {},
   "outputs": [],
   "source": [
    "# Explore what happens when there's more clients and less data for each client\n",
    "K = 100 # Number of clients\n",
    "C = 0.1 # Fraction of clients updated each round\n",
    "CK = int(C*K)\n",
    "B = 64 # Batch size in clients\n",
    "E = 1 # Epochs per client update\n",
    "n = len(dataset1) # Number of training samples in total\n",
    "num_rounds = 100\n",
    "max_n = n/K\n",
    "nk = [int(n/K)]*K\n",
    "nk[-1] = n - np.sum(nk[:-1])\n",
    "\n",
    "# Create agents and assign data to each agent\n",
    "partitioned_dataset = torch.utils.data.random_split(dataset1, nk)\n",
    "\n",
    "# Create agents\n",
    "clients = []\n",
    "for i in range(K):\n",
    "#     clients.append(ClientNet(dataset1, B, E))\n",
    "    clients.append(ClientNet(partitioned_dataset[i], B, E))\n",
    "server = ServerNet()\n",
    "\n",
    "server_loss_history, server_accuracy_history = train_FL(server, clients, num_rounds=num_rounds, dry_run=False, CK=CK, max_n=max_n, \n",
    "                               test_loader=test_loader)\n",
    "test_FL(server, test_loader)"
   ]
  },
  {
   "cell_type": "code",
   "execution_count": 90,
   "metadata": {},
   "outputs": [],
   "source": [
    "kkkks = clients_DFL[0].model.state_dict().keys()"
   ]
  },
  {
   "cell_type": "code",
   "execution_count": 107,
   "metadata": {},
   "outputs": [
    {
     "name": "stdout",
     "output_type": "stream",
     "text": [
      "torch.Size([32, 1, 3, 3]) 0\n",
      "torch.Size([32]) 1\n",
      "torch.Size([64, 32, 3, 3]) 2\n",
      "torch.Size([64]) 3\n",
      "torch.Size([128, 9216]) 4\n",
      "torch.Size([128]) 5\n",
      "torch.Size([10, 128]) 6\n",
      "torch.Size([10]) 7\n"
     ]
    }
   ],
   "source": [
    "for i,k in enumerate(kkkks):\n",
    "    print(clients_DFL[0].model.state_dict()[k].shape, i)"
   ]
  },
  {
   "cell_type": "code",
   "execution_count": 96,
   "metadata": {},
   "outputs": [
    {
     "data": {
      "text/plain": [
       "array([3., 3., 3., 3.])"
      ]
     },
     "execution_count": 96,
     "metadata": {},
     "output_type": "execute_result"
    }
   ],
   "source": [
    "np.sum(np.ones((3,4)),axis=0)"
   ]
  },
  {
   "cell_type": "code",
   "execution_count": 104,
   "metadata": {},
   "outputs": [
    {
     "data": {
      "text/plain": [
       "(array([1, 2]),)"
      ]
     },
     "execution_count": 104,
     "metadata": {},
     "output_type": "execute_result"
    }
   ],
   "source": [
    "testtt = np.array([[1,2,3],[0,1,2],[1,0,0]])\n",
    "# testtt[testtt!=0]=1\n",
    "# testtt\n",
    "np.nonzero(testtt[1,:])"
   ]
  },
  {
   "cell_type": "code",
   "execution_count": 114,
   "metadata": {},
   "outputs": [
    {
     "ename": "TypeError",
     "evalue": "only size-1 arrays can be converted to Python scalars",
     "output_type": "error",
     "traceback": [
      "\u001b[0;31m---------------------------------------------------------------------------\u001b[0m",
      "\u001b[0;31mTypeError\u001b[0m                                 Traceback (most recent call last)",
      "\u001b[0;32m<ipython-input-114-91a864bbff86>\u001b[0m in \u001b[0;36m<module>\u001b[0;34m\u001b[0m\n\u001b[0;32m----> 1\u001b[0;31m \u001b[0mint\u001b[0m\u001b[0;34m(\u001b[0m\u001b[0mnp\u001b[0m\u001b[0;34m.\u001b[0m\u001b[0mnonzero\u001b[0m\u001b[0;34m(\u001b[0m\u001b[0mtesttt\u001b[0m\u001b[0;34m[\u001b[0m\u001b[0;36m1\u001b[0m\u001b[0;34m,\u001b[0m\u001b[0;34m:\u001b[0m\u001b[0;34m]\u001b[0m\u001b[0;34m)\u001b[0m\u001b[0;34m[\u001b[0m\u001b[0;36m0\u001b[0m\u001b[0;34m]\u001b[0m\u001b[0;34m)\u001b[0m\u001b[0;34m\u001b[0m\u001b[0m\n\u001b[0m",
      "\u001b[0;31mTypeError\u001b[0m: only size-1 arrays can be converted to Python scalars"
     ]
    }
   ],
   "source": [
    "int(np.nonzero(testtt[1,:])[0])"
   ]
  },
  {
   "cell_type": "code",
   "execution_count": 105,
   "metadata": {},
   "outputs": [
    {
     "data": {
      "text/plain": [
       "array([], dtype=float64)"
      ]
     },
     "execution_count": 105,
     "metadata": {},
     "output_type": "execute_result"
    }
   ],
   "source": [
    "np.ones((0,))"
   ]
  },
  {
   "cell_type": "markdown",
   "metadata": {},
   "source": [
    "### Decentralized Federated Learning\n",
    "First off, let's see what happens when there's no centralized server to control the progress. Suppose all we have is a complete graph of connections, and instead of averaging on the server side, the averaging takes place in every agent after finishing local updates with the same B and E. \n",
    "\n",
    "Optionally, we can assign weights to each edge according to performance, but that might again require centralized control. This might help establish who's the leader at each update.\n",
    "\n",
    "For now, let's give each agent full access to the training data, just to get an idea."
   ]
  },
  {
   "cell_type": "code",
   "execution_count": 46,
   "metadata": {},
   "outputs": [],
   "source": [
    "# Try to see if you can train distributedly - i.e. average between several separate models\n",
    "# Implement train and test logic. This one doens't have a server, and I assume we can let them all update together.\n",
    "def train_DFL(adj, clients, num_rounds=1, dry_run=False, debug=False, CK=10, max_n=np.inf, test_loader=None,\n",
    "              avg_weight=1, test_all_client=False,\n",
    "              num_avg_iter=-1, max_num_avg_iter=1000, avg_error_thres=0.01):\n",
    "    test_loss = []\n",
    "    test_accuracy = []\n",
    "    for e in range(num_rounds):\n",
    "        # Update each client\n",
    "        for m in clients:\n",
    "            m.update(dry_run, max_n=max_n)\n",
    "        # Aggregation for each client. How it's done depends on the num_avg_iter argument:\n",
    "        # num_avg_iter > 0: Execute at most this number of consensus averaging.\n",
    "        # num_avg_iter < 0: Execute until the system reaches consensus (with pairwise errors smaller than avg_error_thres)\n",
    "           \n",
    "        reached_consensus = False\n",
    "#         print(clients[0].model.state_dict()['fc2.bias'])\n",
    "        for k in range(max_num_avg_iter):\n",
    "            if reached_consensus:\n",
    "                break\n",
    "            if (k > num_avg_iter and num_avg_iter > 0):\n",
    "                break\n",
    "            \n",
    "            # Set up variables where we do the averaging calculation without disturbing the previous weights\n",
    "            new_models = []\n",
    "            for i in range(len(clients)):\n",
    "                new_models.append( copy.deepcopy(clients[i].model.state_dict()) )\n",
    "\n",
    "            reached_consensus = True\n",
    "            # Start averaging towards the goal. Here we use equal neighbor averaging method.\n",
    "            for i in range(len(clients)):\n",
    "                for j in range(len(clients)):\n",
    "                    # Record each key's value, while also keeping track of distance\n",
    "                    client_wise_dist = 0\n",
    "                    for key in new_models[j].keys():\n",
    "                        if reached_consensus and j>i: # Avoid double checking\n",
    "                            client_wise_dist += np.linalg.norm( clients[j].model.state_dict()[key] - clients[i].model.state_dict()[key] )\n",
    "                        new_models[i][key] += avg_weight * adj[i,j] * clients[j].model.state_dict()[key]\n",
    "                    if client_wise_dist > avg_error_thres and reached_consensus and j>i:\n",
    "#                         print('Clients {} and {} showed theres no convergence yet'.format(i,j))\n",
    "                        reached_consensus = False\n",
    "#                     if i==0:\n",
    "#                         print(k, clients[0].model.state_dict()['fc2.bias'])\n",
    "            if reached_consensus:\n",
    "                break\n",
    "            \n",
    "            # Process the recorded values\n",
    "            for i in range(len(clients)):\n",
    "                Ni = np.sum(adj[i,:])\n",
    "                for key in new_models[i].keys():\n",
    "                    new_models[i][key] -= clients[i].model.state_dict()[key]\n",
    "                    new_models[i][key] /= Ni # Or use torch.div()\n",
    "#                 print(i, Ni, new_models[i]['fc2.bias'])\n",
    "\n",
    "            # Load averaged results\n",
    "            for i in range(len(clients)):\n",
    "                clients[i].model.load_state_dict(new_models[i])\n",
    "#         print(\"round {0} complete with {1} averaging steps\".format(e+1,k))\n",
    "        \n",
    "        # Run the client with lowest loss against test dataset to examine performance\n",
    "        if test_loader is not None:\n",
    "            if test_all_client:\n",
    "                test_loss.append([])\n",
    "                saccus = []\n",
    "                # Let all clients go over the test, and take the max accuracy as this round's accuracy\n",
    "                for c in clients:\n",
    "                    sloss, saccu = test_DFL([c], test_loader, debug=False)\n",
    "                    test_loss[-1].append(sloss)\n",
    "                    saccus.append(saccu)\n",
    "                test_accuracy.append(np.max(saccu))\n",
    "            else:\n",
    "                # Only record the best client's performance\n",
    "                sloss, saccu = test_DFL(clients, test_loader, debug=False)\n",
    "                test_loss.append([sloss])\n",
    "                test_accuracy.append(saccu)\n",
    "        print(\"round {0} complete with {1} averaging steps and test accuracy {2}\".format(e+1,k,test_accuracy[-1]))\n",
    "    return test_loss, test_accuracy\n",
    "    \n",
    "def test_DFL(clients, test_loader, debug=True):\n",
    "    # Pick the client with the lowest loss to run against test dataset\n",
    "    losses = []\n",
    "    for c in clients:\n",
    "        c.model.eval()\n",
    "        losses.append(np.mean(c.loss_history[-1]))\n",
    "    ind = np.argmin(losses)\n",
    "    server = clients[ind]\n",
    "\n",
    "    test_loss = 0\n",
    "    correct = 0\n",
    "    with torch.no_grad():\n",
    "        for data, target in test_loader:\n",
    "            data, target = data.to(device), target.to(device)\n",
    "            output = server.model(data)\n",
    "            test_loss += F.nll_loss(output, target, reduction='sum').item()  # sum up batch loss\n",
    "            pred = output.argmax(dim=1, keepdim=True)  # get the index of the max log-probability\n",
    "            correct += pred.eq(target.view_as(pred)).sum().item()\n",
    "\n",
    "    test_loss /= len(test_loader.dataset)\n",
    "    if debug:\n",
    "        print('\\nTest set: Average loss: {:.4f}, Accuracy: {}/{} ({:.0f}%)\\n'.format(\n",
    "            test_loss, correct, len(test_loader.dataset),\n",
    "            100. * correct / len(test_loader.dataset)))\n",
    "    return test_loss, 100. * correct / len(test_loader.dataset)\n"
   ]
  },
  {
   "cell_type": "code",
   "execution_count": 56,
   "metadata": {},
   "outputs": [
    {
     "name": "stdout",
     "output_type": "stream",
     "text": [
      "round 1 complete with 3 averaging steps and test accuracy 18.8\n",
      "round 2 complete with 3 averaging steps and test accuracy 41.25\n",
      "round 3 complete with 3 averaging steps and test accuracy 53.4\n",
      "round 4 complete with 3 averaging steps and test accuracy 46.88\n",
      "round 5 complete with 3 averaging steps and test accuracy 18.02\n",
      "\n",
      "Test set: Average loss: 2.2943, Accuracy: 1802/10000 (18%)\n",
      "\n"
     ]
    },
    {
     "data": {
      "text/plain": [
       "(2.29430166015625, 18.02)"
      ]
     },
     "execution_count": 56,
     "metadata": {},
     "output_type": "execute_result"
    }
   ],
   "source": [
    "# Define some parameters for DFL\n",
    "K = 10 # Number of clients\n",
    "B = 64#10 # Batch size in clients\n",
    "C = 1\n",
    "E = 1 # Epochs per client update\n",
    "n = len(dataset1) # Number of training samples in total\n",
    "num_rounds = 5#200\n",
    "EE = 1/20 # (1/num_rounds) # Portion of data per epoch (<= 1)\n",
    "max_n = n*EE #/K #* (1/num_rounds)\n",
    "\n",
    "# Create adjacency matrix\n",
    "AK = np.zeros((K,K))\n",
    "# For a complete graph:\n",
    "AK = np.ones((K,K))\n",
    "for i in range(K):\n",
    "    AK[i,i] = 0\n",
    "torch.manual_seed(1)\n",
    "# Create agents\n",
    "clients_DFL = []\n",
    "for i in range(K):\n",
    "    clients_DFL.append(ClientNet(dataset1, B, E))\n",
    "\n",
    "# Optional: Set all clients to the same initial weights\n",
    "for i in range(1,K):\n",
    "    clients_DFL[i].model.load_state_dict( clients_DFL[0].model.state_dict() )\n",
    "    \n",
    "DFL_loss_history, DFL_accuracy_history = train_DFL(AK, clients_DFL, num_rounds=num_rounds, dry_run=True,#False, \n",
    "                                                   CK=K, max_n=max_n, \n",
    "                             test_loader=test_loader, test_all_client=True,\n",
    "              num_avg_iter=-1, max_num_avg_iter=100, avg_error_thres=0.01)\n",
    "test_DFL(clients_DFL, test_loader)"
   ]
  },
  {
   "cell_type": "code",
   "execution_count": 53,
   "metadata": {},
   "outputs": [
    {
     "data": {
      "image/png": "[encoded data removed]",
      "text/plain": [
       "<Figure size 864x504 with 2 Axes>"
      ]
     },
     "metadata": {
      "needs_background": "light"
     },
     "output_type": "display_data"
    }
   ],
   "source": [
    "plot_loss_hist(clients_DFL[1].loss_history)"
   ]
  },
  {
   "cell_type": "code",
   "execution_count": 54,
   "metadata": {},
   "outputs": [
    {
     "data": {
      "image/png": "[encoded data removed]",
      "text/plain": [
       "<Figure size 864x504 with 2 Axes>"
      ]
     },
     "metadata": {
      "needs_background": "light"
     },
     "output_type": "display_data"
    }
   ],
   "source": [
    "plot_loss_hist(DFL_loss_history)"
   ]
  },
  {
   "cell_type": "code",
   "execution_count": 55,
   "metadata": {},
   "outputs": [
    {
     "data": {
      "text/plain": [
       "[<matplotlib.lines.Line2D at 0x13731a6a0>]"
      ]
     },
     "execution_count": 55,
     "metadata": {},
     "output_type": "execute_result"
    },
    {
     "data": {
      "image/png": "[encoded data removed]",
      "text/plain": [
       "<Figure size 432x288 with 1 Axes>"
      ]
     },
     "metadata": {
      "needs_background": "light"
     },
     "output_type": "display_data"
    }
   ],
   "source": [
    "plt.plot(np.arange(len(DFL_accuracy_history)), DFL_accuracy_history)"
   ]
  },
  {
   "cell_type": "code",
   "execution_count": 18,
   "metadata": {},
   "outputs": [],
   "source": [
    "np.save('testtt', DFL_loss_history)\n"
   ]
  },
  {
   "cell_type": "code",
   "execution_count": 20,
   "metadata": {},
   "outputs": [],
   "source": [
    "testtt = np.load('testtt.npy')\n",
    "plt.plot(np.arange(len(testtt)), testtt)"
   ]
  },
  {
   "cell_type": "code",
   "execution_count": 41,
   "metadata": {
    "collapsed": true,
    "jupyter": {
     "outputs_hidden": true
    }
   },
   "outputs": [
    {
     "data": {
      "text/plain": [
       "OrderedDict([('conv1.weight',\n",
       "              tensor([[[[-4.0021e-03,  9.4304e-02,  4.4953e-02],\n",
       "                        [-3.1862e-02, -1.4976e-01,  6.4353e-02],\n",
       "                        [-3.3937e-02,  3.8324e-02,  4.6799e-02]]],\n",
       "              \n",
       "              \n",
       "                      [[[-6.4097e-02,  8.9263e-02,  7.8974e-02],\n",
       "                        [ 1.7895e-02, -7.1332e-02, -8.9274e-03],\n",
       "                        [-7.1689e-02,  3.5507e-02, -6.3348e-02]]],\n",
       "              \n",
       "              \n",
       "                      [[[ 2.7150e-03,  6.4183e-02,  2.6465e-02],\n",
       "                        [-6.3940e-02, -4.4179e-02, -6.0921e-02],\n",
       "                        [ 1.1432e-02,  5.6533e-02,  3.9350e-02]]],\n",
       "              \n",
       "              \n",
       "                      [[[-3.3926e-02, -2.4614e-03,  8.2899e-02],\n",
       "                        [ 4.3083e-02, -7.7422e-02,  7.4511e-03],\n",
       "                        [ 2.6368e-02,  3.3437e-02, -5.4512e-02]]],\n",
       "              \n",
       "              \n",
       "                      [[[-1.9048e-02, -6.2342e-03,  5.6881e-02],\n",
       "                        [ 5.1940e-02, -2.6300e-02,  4.1115e-02],\n",
       "                        [-6.7079e-02, -1.4017e-02,  1.0684e-01]]],\n",
       "              \n",
       "              \n",
       "                      [[[ 4.8238e-02,  2.1564e-02,  5.6042e-02],\n",
       "                        [-1.1255e-02,  1.0598e-01,  7.7390e-02],\n",
       "                        [-2.1865e-02,  1.2489e-02,  6.6078e-02]]],\n",
       "              \n",
       "              \n",
       "                      [[[-9.7567e-02,  2.0042e-02,  5.6826e-02],\n",
       "                        [ 3.9101e-02,  1.7583e-02, -1.0865e-02],\n",
       "                        [-1.9987e-02, -1.7997e-02,  1.6053e-02]]],\n",
       "              \n",
       "              \n",
       "                      [[[ 2.0916e-03, -3.2786e-02,  6.5658e-02],\n",
       "                        [ 1.3594e-01, -2.1501e-02, -1.1007e-01],\n",
       "                        [-2.4903e-02, -2.5223e-02,  8.2023e-02]]],\n",
       "              \n",
       "              \n",
       "                      [[[ 2.1909e-02, -4.6623e-02, -1.0828e-02],\n",
       "                        [-5.9141e-03, -8.0581e-02,  1.8946e-02],\n",
       "                        [ 2.1941e-02, -8.4718e-02, -8.6458e-02]]],\n",
       "              \n",
       "              \n",
       "                      [[[-3.2079e-02,  1.5171e-04,  7.0074e-02],\n",
       "                        [ 3.0152e-02,  2.8428e-02, -9.8768e-02],\n",
       "                        [ 6.6347e-02, -8.4983e-03, -1.6487e-01]]],\n",
       "              \n",
       "              \n",
       "                      [[[ 6.8723e-02, -5.6618e-02,  1.7630e-02],\n",
       "                        [ 7.6446e-02, -1.0423e-01, -2.5163e-02],\n",
       "                        [-1.4959e-02,  5.2854e-02,  7.1349e-02]]],\n",
       "              \n",
       "              \n",
       "                      [[[ 4.2624e-02,  6.4004e-02,  9.8113e-02],\n",
       "                        [ 1.6159e-02,  3.3004e-02,  1.2391e-02],\n",
       "                        [-6.4662e-02,  8.2600e-04, -9.1977e-02]]],\n",
       "              \n",
       "              \n",
       "                      [[[-4.6120e-02,  1.6022e-02,  1.1938e-01],\n",
       "                        [ 1.6688e-02,  6.9605e-02,  4.5798e-02],\n",
       "                        [-7.5564e-02, -3.1200e-03, -1.0484e-02]]],\n",
       "              \n",
       "              \n",
       "                      [[[-4.1770e-02,  2.7395e-02,  2.6222e-02],\n",
       "                        [ 4.1422e-02, -7.0755e-02, -8.2721e-02],\n",
       "                        [ 3.2634e-02,  3.0347e-02, -6.0402e-03]]],\n",
       "              \n",
       "              \n",
       "                      [[[ 7.1675e-02, -7.1682e-02,  1.5895e-02],\n",
       "                        [-2.3441e-02, -8.1627e-02, -6.6027e-03],\n",
       "                        [-5.3871e-02, -4.2299e-02,  1.0798e-01]]],\n",
       "              \n",
       "              \n",
       "                      [[[ 1.5412e-02,  3.6138e-02, -2.4501e-02],\n",
       "                        [ 7.0389e-02,  5.0458e-02, -1.1194e-01],\n",
       "                        [-5.9393e-02,  3.3696e-03, -6.2611e-02]]],\n",
       "              \n",
       "              \n",
       "                      [[[-4.6991e-02, -2.6810e-02, -2.0677e-02],\n",
       "                        [-3.7542e-02, -1.0998e-02, -3.3295e-02],\n",
       "                        [ 4.2925e-02,  8.2475e-02, -2.8474e-02]]],\n",
       "              \n",
       "              \n",
       "                      [[[ 5.3107e-03, -8.4167e-03,  4.8569e-03],\n",
       "                        [ 1.5290e-01, -9.2637e-04, -3.0545e-02],\n",
       "                        [ 4.1470e-02,  3.9904e-02, -4.5169e-02]]],\n",
       "              \n",
       "              \n",
       "                      [[[ 3.7476e-02,  3.2083e-02, -6.2094e-02],\n",
       "                        [-1.0434e-01,  8.4547e-02,  8.7140e-02],\n",
       "                        [ 2.9102e-02, -5.0063e-03,  1.1898e-01]]],\n",
       "              \n",
       "              \n",
       "                      [[[-8.0175e-02,  7.2847e-02,  4.5036e-02],\n",
       "                        [ 1.0017e-02,  1.5332e-02, -3.5137e-02],\n",
       "                        [-4.0447e-02,  7.4105e-02, -8.2570e-03]]],\n",
       "              \n",
       "              \n",
       "                      [[[ 7.3665e-03, -5.7359e-02, -8.0913e-02],\n",
       "                        [-1.7044e-02, -1.2874e-02, -1.1229e-02],\n",
       "                        [ 7.6785e-02,  8.9584e-02, -9.5540e-02]]],\n",
       "              \n",
       "              \n",
       "                      [[[ 5.7242e-02, -7.1664e-02, -3.8668e-02],\n",
       "                        [ 7.1572e-03, -6.6312e-02, -5.2114e-02],\n",
       "                        [ 8.8497e-02, -5.2386e-02, -4.0122e-02]]],\n",
       "              \n",
       "              \n",
       "                      [[[ 4.1984e-02, -8.0370e-02, -1.2163e-03],\n",
       "                        [-5.3319e-02,  4.0370e-02, -6.7930e-03],\n",
       "                        [ 2.1352e-02,  7.0880e-02,  3.8962e-02]]],\n",
       "              \n",
       "              \n",
       "                      [[[-1.0343e-01,  7.1539e-02, -1.4786e-01],\n",
       "                        [ 1.3992e-02, -2.5402e-02, -4.0692e-02],\n",
       "                        [ 3.4427e-02,  2.5132e-02,  2.9937e-02]]],\n",
       "              \n",
       "              \n",
       "                      [[[ 6.2672e-02, -1.3039e-02, -4.3933e-02],\n",
       "                        [-8.7288e-02, -1.7743e-02, -4.1143e-02],\n",
       "                        [ 7.0946e-02, -2.9647e-02,  7.5386e-02]]],\n",
       "              \n",
       "              \n",
       "                      [[[ 2.6479e-02, -9.5566e-02,  2.5178e-02],\n",
       "                        [-2.4465e-03,  1.9789e-03,  1.4278e-02],\n",
       "                        [-4.3785e-03,  2.4905e-02, -3.0814e-02]]],\n",
       "              \n",
       "              \n",
       "                      [[[-3.6141e-02,  5.3376e-02,  3.2387e-02],\n",
       "                        [ 3.9439e-02, -2.6596e-03, -1.5140e-01],\n",
       "                        [-1.0533e-02, -7.0421e-03,  4.2238e-02]]],\n",
       "              \n",
       "              \n",
       "                      [[[ 2.5904e-02, -7.7211e-03, -3.5373e-02],\n",
       "                        [-1.8776e-02, -5.6974e-02, -5.6254e-03],\n",
       "                        [ 3.2001e-02,  6.1537e-02, -8.3818e-02]]],\n",
       "              \n",
       "              \n",
       "                      [[[-2.6384e-02,  5.7926e-03,  2.3136e-02],\n",
       "                        [ 2.1303e-02,  5.1037e-02, -4.8959e-02],\n",
       "                        [-1.5368e-01,  1.3316e-03, -9.0892e-02]]],\n",
       "              \n",
       "              \n",
       "                      [[[-2.5620e-02, -6.9249e-02, -2.8515e-02],\n",
       "                        [ 9.2623e-02,  9.2970e-02,  7.4487e-02],\n",
       "                        [-6.6201e-02, -9.0009e-03,  5.4935e-02]]],\n",
       "              \n",
       "              \n",
       "                      [[[-6.9524e-02, -2.3628e-02,  3.4956e-02],\n",
       "                        [-8.9426e-02, -4.9680e-03, -9.4732e-02],\n",
       "                        [ 7.7838e-02, -2.2356e-02, -1.0376e-01]]],\n",
       "              \n",
       "              \n",
       "                      [[[ 3.1805e-02, -2.5754e-02, -9.9500e-02],\n",
       "                        [-2.5128e-02, -2.7316e-02, -8.5423e-02],\n",
       "                        [-6.1201e-02,  1.3330e-02,  3.0347e-02]]]])),\n",
       "             ('conv1.bias',\n",
       "              tensor([-0.0838,  0.1157,  0.0898, -0.0562, -0.1124, -0.0781,  0.0625,  0.0571,\n",
       "                      -0.0519,  0.0453, -0.0300,  0.0497,  0.0759,  0.0545,  0.0400, -0.0018,\n",
       "                      -0.0825, -0.0001, -0.0396, -0.0320, -0.0409, -0.0235,  0.0739,  0.0008,\n",
       "                      -0.0572, -0.0407, -0.0089, -0.0596,  0.0362, -0.0764, -0.0238, -0.0095])),\n",
       "             ('conv2.weight',\n",
       "              tensor([[[[-1.8697e-02, -1.4735e-03, -8.3069e-04],\n",
       "                        [-1.7799e-02,  8.3883e-03,  6.4474e-03],\n",
       "                        [ 1.5233e-02,  1.8072e-02,  9.0184e-03]],\n",
       "              \n",
       "                       [[-2.5621e-02,  3.8369e-03,  7.6527e-03],\n",
       "                        [-1.0271e-02,  3.5719e-04,  6.6248e-03],\n",
       "                        [ 1.2282e-02, -1.5221e-02, -1.6616e-02]],\n",
       "              \n",
       "                       [[ 6.2392e-03, -3.3807e-02, -8.1241e-03],\n",
       "                        [-2.0587e-02, -1.3421e-03, -1.3839e-02],\n",
       "                        [ 2.1178e-03,  3.8045e-03, -1.2570e-02]],\n",
       "              \n",
       "                       ...,\n",
       "              \n",
       "                       [[ 6.8569e-03, -3.5661e-04,  1.2710e-03],\n",
       "                        [ 3.0083e-03,  1.6005e-02,  1.7135e-03],\n",
       "                        [ 1.5327e-02,  2.9103e-03,  1.4657e-02]],\n",
       "              \n",
       "                       [[-2.1549e-03, -1.8842e-04,  1.9289e-02],\n",
       "                        [ 7.7023e-03, -1.8069e-03,  9.0042e-03],\n",
       "                        [-2.5235e-02,  7.1851e-03,  2.8180e-02]],\n",
       "              \n",
       "                       [[ 1.0361e-02,  9.9213e-04, -1.3658e-02],\n",
       "                        [ 2.1587e-03,  1.6513e-02, -1.2624e-03],\n",
       "                        [-1.1124e-02, -2.5392e-02, -1.7274e-02]]],\n",
       "              \n",
       "              \n",
       "                      [[[-1.8046e-02, -1.5734e-03,  8.3080e-05],\n",
       "                        [-1.4440e-02,  7.8219e-04,  2.9982e-03],\n",
       "                        [-2.6725e-02,  1.5715e-02,  2.1454e-03]],\n",
       "              \n",
       "                       [[-1.2259e-02,  1.8109e-03, -6.5476e-03],\n",
       "                        [-1.1611e-03,  1.9133e-03,  1.7243e-02],\n",
       "                        [-6.1490e-03, -6.8246e-03, -1.4219e-02]],\n",
       "              \n",
       "                       [[ 1.0267e-02, -5.4656e-03,  5.9111e-03],\n",
       "                        [ 3.2571e-03,  2.5284e-02, -1.4699e-02],\n",
       "                        [ 1.3317e-02, -3.3865e-03, -9.9729e-03]],\n",
       "              \n",
       "                       ...,\n",
       "              \n",
       "                       [[ 8.4242e-03,  1.7625e-02, -8.9653e-03],\n",
       "                        [ 2.4152e-02,  5.3129e-05, -2.7786e-03],\n",
       "                        [-4.8872e-03,  1.7549e-02,  1.2366e-02]],\n",
       "              \n",
       "                       [[-3.6665e-03, -7.3781e-03, -1.0432e-02],\n",
       "                        [ 8.5111e-03, -7.5816e-04,  2.1177e-02],\n",
       "                        [ 5.9444e-03,  1.3267e-02,  2.3645e-03]],\n",
       "              \n",
       "                       [[-1.0869e-02,  2.2507e-02,  4.3512e-03],\n",
       "                        [ 6.3974e-03,  6.2567e-06, -7.6915e-03],\n",
       "                        [-6.2260e-03,  8.0261e-03,  4.2583e-05]]],\n",
       "              \n",
       "              \n",
       "                      [[[-2.0842e-02, -1.1561e-02, -8.4605e-03],\n",
       "                        [ 3.6591e-03,  7.2703e-03,  2.6851e-03],\n",
       "                        [-1.9623e-04,  1.9865e-02, -4.6656e-03]],\n",
       "              \n",
       "                       [[ 1.6256e-02,  9.3470e-04,  7.6911e-03],\n",
       "                        [-4.7453e-03,  1.6140e-02,  6.3498e-03],\n",
       "                        [ 9.8387e-03, -1.5594e-04, -5.9299e-03]],\n",
       "              \n",
       "                       [[ 6.0724e-03,  3.8601e-03,  3.9692e-03],\n",
       "                        [-1.6923e-02, -7.9613e-06,  1.5422e-03],\n",
       "                        [ 2.0133e-03,  9.0384e-03, -1.6357e-02]],\n",
       "              \n",
       "                       ...,\n",
       "              \n",
       "                       [[-6.1533e-03,  2.3109e-03, -1.6818e-04],\n",
       "                        [-1.4263e-02, -2.1986e-03, -2.5694e-04],\n",
       "                        [-1.2257e-02,  1.4557e-02,  1.6817e-03]],\n",
       "              \n",
       "                       [[ 4.9836e-05, -8.1948e-03, -1.3869e-03],\n",
       "                        [-1.8640e-02,  1.4941e-02, -4.1479e-03],\n",
       "                        [-1.4761e-02,  3.1806e-03,  1.9781e-02]],\n",
       "              \n",
       "                       [[ 7.5197e-03, -3.6186e-03, -1.2060e-03],\n",
       "                        [ 1.6058e-02,  1.1109e-02, -1.9871e-02],\n",
       "                        [-1.7446e-02,  7.3748e-03, -2.0153e-03]]],\n",
       "              \n",
       "              \n",
       "                      ...,\n",
       "              \n",
       "              \n",
       "                      [[[ 1.0849e-02,  3.1945e-03,  4.5571e-03],\n",
       "                        [-7.6143e-04,  3.7662e-03,  2.4137e-02],\n",
       "                        [-2.1009e-02, -5.7289e-03, -9.3984e-03]],\n",
       "              \n",
       "                       [[ 7.8160e-03, -3.7765e-03, -3.1060e-03],\n",
       "                        [ 5.2331e-03,  3.8307e-03, -2.9020e-02],\n",
       "                        [-1.5282e-02, -4.2089e-03, -7.7197e-03]],\n",
       "              \n",
       "                       [[ 2.0257e-02, -1.2420e-02, -2.2241e-03],\n",
       "                        [-3.3855e-03,  6.3316e-03, -1.6486e-02],\n",
       "                        [-8.2550e-03, -4.6252e-03,  1.7270e-03]],\n",
       "              \n",
       "                       ...,\n",
       "              \n",
       "                       [[ 3.1907e-03, -1.9114e-02, -1.1982e-02],\n",
       "                        [ 1.3509e-02, -6.5746e-03,  1.4789e-02],\n",
       "                        [ 1.4703e-03, -6.4669e-03, -1.9373e-02]],\n",
       "              \n",
       "                       [[ 2.0226e-02, -1.0961e-02, -8.9979e-03],\n",
       "                        [-4.3665e-03,  2.3803e-03, -8.2570e-03],\n",
       "                        [ 1.8179e-02, -5.1822e-03, -1.8542e-02]],\n",
       "              \n",
       "                       [[ 8.5122e-03,  4.6519e-03, -5.9875e-03],\n",
       "                        [-4.1015e-03,  6.1028e-03, -7.6665e-03],\n",
       "                        [ 1.0289e-02, -1.3981e-02, -1.1830e-03]]],\n",
       "              \n",
       "              \n",
       "                      [[[ 1.1197e-03, -5.0025e-03,  2.2331e-03],\n",
       "                        [-6.0591e-03,  5.9925e-03, -3.6787e-03],\n",
       "                        [ 5.7900e-03, -1.0110e-02, -3.6986e-03]],\n",
       "              \n",
       "                       [[-3.4435e-03,  2.1061e-02, -8.2767e-03],\n",
       "                        [ 2.5196e-02,  1.6119e-02,  6.5413e-04],\n",
       "                        [ 8.7257e-03, -1.2020e-02,  5.6698e-03]],\n",
       "              \n",
       "                       [[ 1.7061e-02,  1.8384e-02, -1.2865e-02],\n",
       "                        [-1.0199e-02, -6.3867e-03, -3.5504e-03],\n",
       "                        [ 9.0940e-03, -2.6715e-03,  1.2880e-02]],\n",
       "              \n",
       "                       ...,\n",
       "              \n",
       "                       [[-2.4402e-03, -4.3690e-03,  8.5547e-03],\n",
       "                        [-9.0252e-03, -1.6083e-03, -3.3759e-03],\n",
       "                        [ 1.8087e-03,  2.3421e-03, -6.3906e-03]],\n",
       "              \n",
       "                       [[ 1.6362e-02, -7.5927e-03,  9.2721e-03],\n",
       "                        [-3.9225e-03, -1.4132e-03,  1.2779e-02],\n",
       "                        [ 3.4055e-03,  8.4940e-03,  8.8824e-03]],\n",
       "              \n",
       "                       [[-1.4048e-03, -1.0654e-02, -2.6580e-03],\n",
       "                        [-8.9366e-03,  1.0091e-02, -9.4914e-03],\n",
       "                        [-1.1918e-02,  1.6722e-02, -5.9816e-03]]],\n",
       "              \n",
       "              \n",
       "                      [[[ 7.4646e-03, -9.4488e-03,  2.2179e-03],\n",
       "                        [ 1.0263e-02, -1.5568e-03,  1.1201e-03],\n",
       "                        [ 1.2027e-03, -3.3481e-03, -2.8055e-02]],\n",
       "              \n",
       "                       [[-5.9695e-03, -1.0183e-02, -1.7181e-02],\n",
       "                        [ 5.1117e-03, -1.9643e-02, -9.9234e-03],\n",
       "                        [ 9.1665e-03, -2.1442e-03, -1.4799e-03]],\n",
       "              \n",
       "                       [[ 3.9422e-03,  1.4443e-02,  9.0577e-03],\n",
       "                        [-1.1037e-02, -1.7724e-02,  2.9307e-03],\n",
       "                        [ 1.1194e-02, -2.9872e-03, -2.7136e-04]],\n",
       "              \n",
       "                       ...,\n",
       "              \n",
       "                       [[ 7.1513e-03,  7.9220e-03, -1.0438e-03],\n",
       "                        [-1.0939e-02,  2.2391e-02,  9.8410e-04],\n",
       "                        [-1.6622e-02,  4.7807e-03, -7.2583e-03]],\n",
       "              \n",
       "                       [[-9.5437e-03,  4.6666e-03,  3.9352e-03],\n",
       "                        [ 4.4013e-03, -1.2821e-03, -1.4724e-02],\n",
       "                        [ 1.1344e-03, -7.6834e-03, -1.2800e-03]],\n",
       "              \n",
       "                       [[-9.8328e-03,  3.2987e-03,  1.7196e-03],\n",
       "                        [-6.1384e-04,  1.2559e-02,  2.6397e-02],\n",
       "                        [-4.5775e-03,  1.7371e-02, -7.2124e-03]]]])),\n",
       "             ('conv2.bias',\n",
       "              tensor([ 0.0055,  0.0013,  0.0077, -0.0167, -0.0149,  0.0051,  0.0015,  0.0270,\n",
       "                      -0.0021,  0.0017, -0.0013,  0.0085, -0.0113, -0.0134, -0.0075, -0.0063,\n",
       "                      -0.0043,  0.0069,  0.0069,  0.0175,  0.0179, -0.0062, -0.0050, -0.0050,\n",
       "                      -0.0009,  0.0045, -0.0060,  0.0044,  0.0032,  0.0073,  0.0051, -0.0243,\n",
       "                      -0.0109, -0.0019,  0.0109, -0.0005,  0.0108, -0.0004,  0.0107,  0.0123,\n",
       "                       0.0062, -0.0059, -0.0017,  0.0149, -0.0076, -0.0008,  0.0050, -0.0030,\n",
       "                      -0.0157,  0.0126, -0.0009, -0.0032,  0.0170, -0.0061,  0.0035, -0.0092,\n",
       "                      -0.0038, -0.0051,  0.0173,  0.0166, -0.0072, -0.0145,  0.0135, -0.0070])),\n",
       "             ('fc1.weight',\n",
       "              tensor([[ 6.6308e-06,  3.5176e-03,  2.8682e-04,  ...,  1.1404e-03,\n",
       "                        4.8010e-06, -2.0034e-04],\n",
       "                      [ 1.8240e-03, -1.0515e-03,  5.8202e-04,  ..., -3.9806e-04,\n",
       "                        1.1211e-03, -1.1889e-03],\n",
       "                      [-1.8703e-03, -7.0808e-05, -6.8281e-04,  ...,  2.2182e-03,\n",
       "                       -7.4692e-04,  1.9660e-03],\n",
       "                      ...,\n",
       "                      [-4.4882e-03, -8.6855e-05,  1.2117e-03,  ..., -1.6412e-03,\n",
       "                        9.3922e-04,  2.2177e-04],\n",
       "                      [ 1.9313e-03,  1.4497e-03,  1.1831e-03,  ..., -9.9673e-04,\n",
       "                       -1.6920e-03,  2.5169e-04],\n",
       "                      [-7.1223e-04,  2.0988e-03,  3.7199e-03,  ..., -7.5408e-04,\n",
       "                       -3.3417e-05,  1.8553e-03]])),\n",
       "             ('fc1.bias',\n",
       "              tensor([ 2.9853e-03,  9.2178e-04, -2.9437e-03, -4.2176e-03,  2.9476e-03,\n",
       "                      -2.0513e-03,  2.3672e-03,  1.6356e-03, -1.7168e-04,  1.3628e-03,\n",
       "                       2.3311e-03, -4.0228e-03, -1.0422e-03,  1.4237e-03, -7.1851e-04,\n",
       "                      -4.1756e-04, -2.0180e-03, -9.5887e-04,  2.4356e-04,  6.1503e-04,\n",
       "                      -2.5767e-03, -7.3795e-04, -2.7266e-03, -2.2282e-03,  7.2441e-04,\n",
       "                      -1.2627e-03, -5.9344e-05,  9.9311e-04, -3.0811e-03, -1.1808e-03,\n",
       "                      -2.6892e-05, -1.1225e-03,  3.1993e-03,  8.9668e-04,  3.8011e-04,\n",
       "                      -3.3889e-03,  3.6587e-03, -1.0529e-03, -6.6676e-04, -6.3946e-04,\n",
       "                      -2.1364e-03, -3.2046e-03,  6.0612e-04,  2.2703e-03,  9.8550e-04,\n",
       "                      -3.0649e-03, -2.0645e-03, -9.0116e-04, -3.1684e-03, -9.1656e-04,\n",
       "                       4.2304e-03,  1.2441e-05, -1.7956e-03,  1.7193e-03,  2.3581e-03,\n",
       "                      -5.2317e-04, -2.1573e-04,  4.1914e-03,  1.8932e-03, -1.2411e-03,\n",
       "                      -2.5785e-03, -3.1763e-03,  7.9161e-04,  1.8729e-03,  7.8855e-04,\n",
       "                       4.4109e-03, -1.9675e-03, -2.1202e-03, -1.4994e-03,  1.7394e-04,\n",
       "                       2.0296e-03, -2.1312e-03,  4.4563e-04,  1.9498e-03, -1.4398e-03,\n",
       "                       4.6848e-03,  2.4855e-04, -2.9761e-04, -1.7634e-03, -4.8808e-04,\n",
       "                      -7.8735e-04,  1.8276e-03, -7.2587e-04,  2.7804e-04,  2.3872e-03,\n",
       "                       1.1762e-03,  1.3131e-03, -3.5181e-04, -6.6539e-04,  3.8928e-03,\n",
       "                      -6.5095e-05,  2.1929e-03, -1.1523e-03,  3.7642e-03, -2.2951e-03,\n",
       "                       2.3549e-03,  1.3583e-03,  4.2437e-03, -1.5123e-03,  5.6984e-04,\n",
       "                       1.4459e-03, -5.9558e-04, -2.5773e-03, -7.6213e-04,  1.8610e-03,\n",
       "                       6.5377e-04, -1.2086e-03, -2.1274e-03, -8.9399e-04,  1.0734e-03,\n",
       "                       8.8052e-05, -3.9579e-03, -3.2885e-03,  1.1581e-03, -1.3351e-05,\n",
       "                      -9.7190e-04,  4.2501e-03, -2.4945e-03, -1.0238e-03,  1.0682e-03,\n",
       "                       5.1281e-03,  1.5271e-03,  1.2610e-03, -1.2842e-03,  1.0971e-03,\n",
       "                       2.6860e-03,  5.5029e-04, -8.1971e-04])),\n",
       "             ('fc2.weight',\n",
       "              tensor([[-0.0143, -0.0082, -0.0194,  ..., -0.0157, -0.0194,  0.0150],\n",
       "                      [ 0.0094, -0.0221,  0.0123,  ...,  0.0022, -0.0042, -0.0004],\n",
       "                      [-0.0009, -0.0096,  0.0067,  ..., -0.0200, -0.0160, -0.0160],\n",
       "                      ...,\n",
       "                      [-0.0190, -0.0089,  0.0034,  ...,  0.0050,  0.0095,  0.0225],\n",
       "                      [-0.0401, -0.0010,  0.0293,  ..., -0.0164, -0.0198,  0.0151],\n",
       "                      [ 0.0232, -0.0042,  0.0039,  ..., -0.0114, -0.0104,  0.0124]])),\n",
       "             ('fc2.bias',\n",
       "              tensor([ 0.0011,  0.0103, -0.0085, -0.0137,  0.0148, -0.0122,  0.0068, -0.0084,\n",
       "                      -0.0027, -0.0093]))])"
      ]
     },
     "execution_count": 41,
     "metadata": {},
     "output_type": "execute_result"
    }
   ],
   "source": [
    "clients_DFL[1].model.state_dict()"
   ]
  },
  {
   "cell_type": "markdown",
   "metadata": {},
   "source": [
    "### Decentralized FL with sparser connections\n",
    "This time, reduce the connectivity graph to a cycle, for example, or a line. Still give each agent full data access. You should see slower convergence to consensus, but the effect to each agent's performance history would be interesting to see. \n",
    "\n",
    "However, if the procedure is to get to convergence before the next round starts, then the topology won't matter when network is always B-strongly connected. "
   ]
  },
  {
   "cell_type": "code",
   "execution_count": 64,
   "metadata": {
    "collapsed": true,
    "jupyter": {
     "outputs_hidden": true
    }
   },
   "outputs": [
    {
     "name": "stdout",
     "output_type": "stream",
     "text": [
      "round 1 complete\n",
      "round 2 complete\n",
      "round 3 complete\n",
      "round 4 complete\n",
      "round 5 complete\n",
      "round 6 complete\n",
      "round 7 complete\n",
      "round 8 complete\n",
      "round 9 complete\n",
      "round 10 complete\n",
      "round 11 complete\n",
      "round 12 complete\n",
      "round 13 complete\n",
      "round 14 complete\n",
      "round 15 complete\n",
      "round 16 complete\n",
      "round 17 complete\n",
      "round 18 complete\n",
      "round 19 complete\n",
      "round 20 complete\n",
      "round 21 complete\n",
      "round 22 complete\n",
      "round 23 complete\n",
      "round 24 complete\n",
      "round 25 complete\n",
      "round 26 complete\n",
      "round 27 complete\n",
      "round 28 complete\n",
      "round 29 complete\n",
      "round 30 complete\n",
      "round 31 complete\n",
      "round 32 complete\n",
      "round 33 complete\n",
      "round 34 complete\n",
      "round 35 complete\n",
      "round 36 complete\n",
      "round 37 complete\n",
      "round 38 complete\n",
      "round 39 complete\n",
      "round 40 complete\n",
      "round 41 complete\n",
      "round 42 complete\n",
      "round 43 complete\n",
      "round 44 complete\n",
      "round 45 complete\n",
      "round 46 complete\n",
      "round 47 complete\n",
      "round 48 complete\n",
      "round 49 complete\n",
      "round 50 complete\n",
      "round 51 complete\n",
      "round 52 complete\n",
      "round 53 complete\n",
      "round 54 complete\n",
      "round 55 complete\n",
      "round 56 complete\n",
      "round 57 complete\n",
      "round 58 complete\n",
      "round 59 complete\n",
      "round 60 complete\n",
      "round 61 complete\n",
      "round 62 complete\n",
      "round 63 complete\n",
      "round 64 complete\n",
      "round 65 complete\n",
      "round 66 complete\n",
      "round 67 complete\n",
      "round 68 complete\n",
      "round 69 complete\n",
      "round 70 complete\n",
      "round 71 complete\n",
      "round 72 complete\n",
      "round 73 complete\n",
      "round 74 complete\n",
      "round 75 complete\n",
      "round 76 complete\n",
      "round 77 complete\n",
      "round 78 complete\n",
      "round 79 complete\n",
      "round 80 complete\n",
      "round 81 complete\n",
      "round 82 complete\n",
      "round 83 complete\n",
      "round 84 complete\n",
      "round 85 complete\n",
      "round 86 complete\n",
      "round 87 complete\n",
      "round 88 complete\n",
      "round 89 complete\n",
      "round 90 complete\n",
      "round 91 complete\n",
      "round 92 complete\n",
      "round 93 complete\n",
      "round 94 complete\n",
      "round 95 complete\n",
      "round 96 complete\n",
      "round 97 complete\n",
      "round 98 complete\n",
      "round 99 complete\n",
      "round 100 complete\n",
      "\n",
      "Test set: Average loss: 223559315302931808.0000, Accuracy: 4340/10000 (43%)\n",
      "\n"
     ]
    },
    {
     "data": {
      "text/plain": [
       "2.235593153029318e+17"
      ]
     },
     "execution_count": 64,
     "metadata": {},
     "output_type": "execute_result"
    }
   ],
   "source": [
    "# Using a cycle adj matrix\n",
    "AC = np.zeros((K,K))\n",
    "AC[0,-1] = 1\n",
    "AC[-1,0] = 1\n",
    "for i in range(K-1):\n",
    "    AC[i,i+1] = 1\n",
    "    AC[i+1,i] = 1\n",
    "# Create agents\n",
    "clients_DFL_cyc = []\n",
    "for i in range(K):\n",
    "    clients_DFL_cyc.append(ClientNet(dataset1, B, E))\n",
    "\n",
    "DFL_cyc_loss_history, DFL_cyc_accuracy_history = train_DFL(AK, clients_DFL_cyc, num_rounds=num_rounds, dry_run=True, CK=CK, max_n=max_n, \n",
    "                             test_loader=test_loader, test_all_client=True,\n",
    "              num_avg_iter=-1, max_num_avg_iter=100, avg_error_thres=0.01)\n",
    "test_DFL(clients_DFL_cyc, test_loader)"
   ]
  },
  {
   "cell_type": "code",
   "execution_count": 61,
   "metadata": {},
   "outputs": [
    {
     "name": "stderr",
     "output_type": "stream",
     "text": [
      "/Library/Frameworks/Python.framework/Versions/3.6/lib/python3.6/site-packages/torch/storage.py:34: FutureWarning: pickle support for Storage will be removed in 1.5. Use `torch.save` instead\n",
      "  warnings.warn(\"pickle support for Storage will be removed in 1.5. Use `torch.save` instead\", FutureWarning)\n"
     ]
    }
   ],
   "source": [
    "import pickle\n",
    "with open(\"Testpickle\", \"wb\") as fp:\n",
    "    pickle.dump([DFL_loss_history, DFL_accuracy_history,clients_DFL], fp)"
   ]
  },
  {
   "cell_type": "code",
   "execution_count": 62,
   "metadata": {},
   "outputs": [],
   "source": [
    "with open(\"Testpickle\", \"rb\") as fp:\n",
    "    testreadvar = pickle.load(fp)"
   ]
  },
  {
   "cell_type": "code",
   "execution_count": 66,
   "metadata": {},
   "outputs": [
    {
     "data": {
      "text/plain": [
       "64"
      ]
     },
     "execution_count": 66,
     "metadata": {},
     "output_type": "execute_result"
    }
   ],
   "source": [
    "testreadvar[-1][0].B"
   ]
  },
  {
   "cell_type": "code",
   "execution_count": 87,
   "metadata": {},
   "outputs": [
    {
     "data": {
      "image/png": "[encoded data removed]",
      "text/plain": [
       "<Figure size 864x504 with 2 Axes>"
      ]
     },
     "metadata": {
      "needs_background": "light"
     },
     "output_type": "display_data"
    }
   ],
   "source": [
    "plot_loss_hist(clients_DFL_cyc[1].loss_history)"
   ]
  },
  {
   "cell_type": "code",
   "execution_count": 76,
   "metadata": {},
   "outputs": [
    {
     "data": {
      "image/png": "[encoded data removed]",
      "text/plain": [
       "<Figure size 864x504 with 2 Axes>"
      ]
     },
     "metadata": {
      "needs_background": "light"
     },
     "output_type": "display_data"
    }
   ],
   "source": [
    "plot_loss_hist(DFL_cyc_loss_history)"
   ]
  },
  {
   "cell_type": "code",
   "execution_count": null,
   "metadata": {},
   "outputs": [],
   "source": [
    "plt.plot(np.arange(len(DFL_cyc_accuracy_history)), DFL_cyc_accuracy_history)"
   ]
  },
  {
   "cell_type": "markdown",
   "metadata": {},
   "source": [
    "### Decentralized FL with localized data - maybe not even IID\n",
    "The only difference from the above 2 is that this one partitions training data, so that each partition is only accessible by one single agent during the entire training. The network topology would be "
   ]
  },
  {
   "cell_type": "code",
   "execution_count": 114,
   "metadata": {},
   "outputs": [
    {
     "name": "stdout",
     "output_type": "stream",
     "text": [
      "round 1 complete\n",
      "round 2 complete\n",
      "round 3 complete\n",
      "round 4 complete\n",
      "round 5 complete\n",
      "round 6 complete\n",
      "round 7 complete\n",
      "round 8 complete\n",
      "round 9 complete\n",
      "round 10 complete\n",
      "round 11 complete\n",
      "round 12 complete\n",
      "round 13 complete\n",
      "round 14 complete\n",
      "round 15 complete\n",
      "round 16 complete\n",
      "round 17 complete\n",
      "round 18 complete\n",
      "round 19 complete\n",
      "round 20 complete\n",
      "round 21 complete\n",
      "round 22 complete\n",
      "round 23 complete\n",
      "round 24 complete\n",
      "round 25 complete\n",
      "round 26 complete\n",
      "round 27 complete\n",
      "round 28 complete\n",
      "round 29 complete\n",
      "round 30 complete\n",
      "round 31 complete\n",
      "round 32 complete\n",
      "round 33 complete\n",
      "round 34 complete\n",
      "round 35 complete\n",
      "round 36 complete\n",
      "round 37 complete\n",
      "round 38 complete\n",
      "round 39 complete\n",
      "round 40 complete\n",
      "round 41 complete\n",
      "round 42 complete\n",
      "round 43 complete\n",
      "round 44 complete\n",
      "round 45 complete\n",
      "round 46 complete\n",
      "round 47 complete\n",
      "round 48 complete\n",
      "round 49 complete\n",
      "round 50 complete\n",
      "round 51 complete\n",
      "round 52 complete\n",
      "round 53 complete\n",
      "round 54 complete\n",
      "round 55 complete\n",
      "round 56 complete\n",
      "round 57 complete\n",
      "round 58 complete\n",
      "round 59 complete\n",
      "round 60 complete\n",
      "round 61 complete\n",
      "round 62 complete\n",
      "round 63 complete\n",
      "round 64 complete\n",
      "round 65 complete\n",
      "round 66 complete\n",
      "round 67 complete\n",
      "round 68 complete\n",
      "round 69 complete\n",
      "round 70 complete\n",
      "round 71 complete\n",
      "round 72 complete\n",
      "round 73 complete\n",
      "round 74 complete\n",
      "round 75 complete\n",
      "round 76 complete\n",
      "round 77 complete\n",
      "round 78 complete\n",
      "round 79 complete\n",
      "round 80 complete\n",
      "round 81 complete\n",
      "round 82 complete\n",
      "round 83 complete\n",
      "round 84 complete\n",
      "round 85 complete\n",
      "round 86 complete\n",
      "round 87 complete\n",
      "round 88 complete\n",
      "round 89 complete\n",
      "round 90 complete\n",
      "round 91 complete\n",
      "round 92 complete\n",
      "round 93 complete\n",
      "round 94 complete\n",
      "round 95 complete\n",
      "round 96 complete\n",
      "round 97 complete\n",
      "round 98 complete\n",
      "round 99 complete\n",
      "round 100 complete\n",
      "\n",
      "Test set: Average loss: nan, Accuracy: 980/10000 (10%)\n",
      "\n"
     ]
    },
    {
     "data": {
      "text/plain": [
       "(nan, 9.8)"
      ]
     },
     "execution_count": 114,
     "metadata": {},
     "output_type": "execute_result"
    }
   ],
   "source": [
    "# Divide up the dataset into partitions. Start from uniform partition first. \n",
    "K = 15 # Number of clients\n",
    "B = 32 # Batch size in clients\n",
    "E = 1 # Epochs per client update\n",
    "n = len(dataset1) # Number of training samples in total\n",
    "num_rounds = 100\n",
    "max_n = n/num_rounds\n",
    "# Decide how many samples to assign for each client network\n",
    "nk = [int(n/K)]*K\n",
    "nk[-1] = n - np.sum(nk[:-1])\n",
    "# nkc = [0] + np.cumsum(nk)\n",
    "\n",
    "# Create adjacency matrix\n",
    "AK = np.zeros((K,K))\n",
    "# For a complete graph:\n",
    "AK = np.ones((K,K))\n",
    "for i in range(K):\n",
    "    AK[i,i] = 0\n",
    "\n",
    "# Create agents and assign data to each agent\n",
    "partitioned_dataset = torch.utils.data.random_split(dataset1, nk)\n",
    "clients_DFL_Part = []\n",
    "for i in range(K):\n",
    "    clients_DFL_Part.append(ClientNet(partitioned_dataset[i], B, E))\n",
    "\n",
    "DFL_Part_loss_history, DFL_Part_accuracy_history = train_DFL(\n",
    "    AK, clients_DFL_Part, num_rounds=num_rounds, dry_run=False, CK=CK, max_n=max_n, \n",
    "    test_loader=test_loader, avg_weight=0.9)\n",
    "test_DFL(clients_DFL_Part, test_loader)"
   ]
  },
  {
   "cell_type": "code",
   "execution_count": 119,
   "metadata": {},
   "outputs": [
    {
     "data": {
      "image/png": "[encoded data removed]",
      "text/plain": [
       "<Figure size 864x504 with 2 Axes>"
      ]
     },
     "metadata": {
      "needs_background": "light"
     },
     "output_type": "display_data"
    }
   ],
   "source": [
    "plot_loss_hist(clients_DFL_Part[10].loss_history)"
   ]
  },
  {
   "cell_type": "code",
   "execution_count": 116,
   "metadata": {},
   "outputs": [
    {
     "data": {
      "image/png": "[encoded data removed]",
      "text/plain": [
       "<Figure size 864x504 with 2 Axes>"
      ]
     },
     "metadata": {
      "needs_background": "light"
     },
     "output_type": "display_data"
    }
   ],
   "source": [
    "plot_loss_hist(DFL_Part_loss_history)"
   ]
  },
  {
   "cell_type": "code",
   "execution_count": 117,
   "metadata": {},
   "outputs": [
    {
     "data": {
      "text/plain": [
       "[<matplotlib.lines.Line2D at 0x141f55a90>]"
      ]
     },
     "execution_count": 117,
     "metadata": {},
     "output_type": "execute_result"
    },
    {
     "data": {
      "image/png": "[encoded data removed]",
      "text/plain": [
       "<Figure size 432x288 with 1 Axes>"
      ]
     },
     "metadata": {
      "needs_background": "light"
     },
     "output_type": "display_data"
    }
   ],
   "source": [
    "plt.plot(np.arange(len(DFL_Part_accuracy_history)), DFL_Part_accuracy_history)"
   ]
  },
  {
   "cell_type": "code",
   "execution_count": 80,
   "metadata": {},
   "outputs": [
    {
     "data": {
      "text/plain": [
       "60000"
      ]
     },
     "execution_count": 80,
     "metadata": {},
     "output_type": "execute_result"
    }
   ],
   "source": [
    "len(dataset1)"
   ]
  },
  {
   "cell_type": "markdown",
   "metadata": {},
   "source": [
    "### Decentralized but not Federated?\n",
    "There are other methods such as GADMM that use parallellism in learning. You can try them out if you know how to write them out. "
   ]
  }
 ],
 "metadata": {
  "kernelspec": {
   "display_name": "Python 3",
   "language": "python",
   "name": "python3"
  },
  "language_info": {
   "codemirror_mode": {
    "name": "ipython",
    "version": 3
   },
   "file_extension": ".py",
   "mimetype": "text/x-python",
   "name": "python",
   "nbconvert_exporter": "python",
   "pygments_lexer": "ipython3",
   "version": "3.6.2"
  }
 },
 "nbformat": 4,
 "nbformat_minor": 4
}
